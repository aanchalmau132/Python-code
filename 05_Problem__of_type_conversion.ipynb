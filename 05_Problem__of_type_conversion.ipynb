{
 "cells": [
  {
   "cell_type": "markdown",
   "id": "4249f6b6-0df6-4e17-b6d8-0260bf3a957b",
   "metadata": {},
   "source": [
    "### Question 1: What is the difference between implicit and explicit type conversion?\n",
    "### Question 2: Which function would you use to convert a string \"123\" to an integer?\n",
    "### Question 3: Explain what happens when you convert a floating-point number to an integer.\n",
    "### Question 4: Predict the output.\n",
    "### Question 5: What will be the output of the following code?\n",
    "### Question 6: Identify the error in this code and fix it.\n",
    "### Question 7: Convert a list of strings to a list of integers.\n",
    " "
   ]
  },
  {
   "cell_type": "code",
   "execution_count": null,
   "id": "e0f64e65-6ca7-4603-a3e0-99c31cbf6c4d",
   "metadata": {},
   "outputs": [],
   "source": []
  }
 ],
 "metadata": {
  "kernelspec": {
   "display_name": "Python [conda env:base] *",
   "language": "python",
   "name": "conda-base-py"
  },
  "language_info": {
   "codemirror_mode": {
    "name": "ipython",
    "version": 3
   },
   "file_extension": ".py",
   "mimetype": "text/x-python",
   "name": "python",
   "nbconvert_exporter": "python",
   "pygments_lexer": "ipython3",
   "version": "3.12.7"
  }
 },
 "nbformat": 4,
 "nbformat_minor": 5
}
