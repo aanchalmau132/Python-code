{
 "cells": [
  {
   "cell_type": "markdown",
   "id": "008cf161-1b5a-4eed-9436-fd5d72d0f5e5",
   "metadata": {},
   "source": [
    "### Question 1: Concatenate two strings without using the + operator."
   ]
  },
  {
   "cell_type": "markdown",
   "id": "937a7a3c-78e6-4870-8d20-8ff63bff961c",
   "metadata": {},
   "source": [
    "### Question 1: Concatenate two strings without using the + operator.\n",
    "### Question 2: Reverse the string 'Python' using slicing.\n",
    "### Question 3: Check if the string 'level' is a palindrome.\n",
    "### Question 4: Convert 'hello world' to uppercase and 'PYTHON' to lowercase.\n",
    "### Question 5: Remove leading and trailing spaces from the string ' Python '.\n",
    "### Question 6: Replace all occurrences of 'apple' with 'orange' in the string 'apple pie and apple juice'.\n",
    "### Question 7: Find the position of the first occurrence of 'world' in 'Hello world, welcome to the world of Python!'.\n",
    "### Question 8: Concatenation and Repetition\n",
    "#### step-1: Create two strings, \"Hello\" and \"World\".\n",
    "#### step-2: Concatenate them with a space in between.\n",
    "#### step-3: Repeat the concatenated string 3 times.\n",
    "### Question 9: Indexing and Slicing\n",
    "#### step-1: Given the string \"PythonProgramming\", extract the following:\n",
    "#### -2: First 6 characters\n",
    "#### step-3: Last 5 characters\n",
    "#### step-4: Characters at even indices\n",
    "#### step-5: Reverse the string\n",
    "### Question 10: Manipulation Methods\n",
    "#### step-1: Use the string: \" Python is AWESOME!!! \"\n",
    "#### step-2: Remove leading and trailing spaces.\n",
    "#### step-3: Convert it to lowercase, uppercase, and title case.\n",
    "#### step-4: Replace \"AWESOME\" with \"great\".\n",
    "#### step-5: Split the string by spaces.\n",
    "#### step-6: Join it back with a hyphen \"-\".\n",
    "### Question 11: Check if the strings below are alphanumeric, alphabetic, numeric, uppercase, or lowercase.\n",
    "\"Python123\" ,\"2025\",\"HELLO\",\"hello\",\"\n",
    "\"\n",
    "### Question 12: Search and Count Methods\n",
    "#### step-1: Use the string: \"Python is popular and powerful\"\n",
    "\n",
    "#### step-2: Find the position of the word \"popular\".\n",
    "\n",
    "#### step-3: Check if the word \"power\" exists in the string.\n",
    "\n",
    "#### step-4: Count how many times the letter \"p\" appears.\n",
    "\n"
   ]
  },
  {
   "cell_type": "code",
   "execution_count": 3,
   "id": "e8517947-0738-418d-b052-5a24765d6fad",
   "metadata": {},
   "outputs": [
    {
     "name": "stdout",
     "output_type": "stream",
     "text": [
      "hello world\n",
      "hello world\n",
      "hello world\n",
      "True\n",
      "HELLO WORLD python\n",
      "orange pie and orange juice\n"
     ]
    }
   ],
   "source": [
    "#Question 1: Concatenate two strings without using the + operator\n",
    "str1 = \"hello\"\n",
    "str2 = \"world\"\n",
    "print(\" \".join([str1, str2]))\n",
    "print(f\"{str1} {str2}\")\n",
    "print(\"{} {}\".format(str1, str2))\n",
    "print\n",
    "def check_palindrome(input):\n",
    "    return input[::-1] == input\n",
    "print(check_palindrome(\"level\"))\n",
    "print(\"hello world\".upper(), \"PYTHON\".lower())\n",
    "str3 = \"apple pie and apple juice\"\n",
    "\n",
    "print(str3.replace(\"apple\",\"orange\"))"
   ]
  },
  {
   "cell_type": "code",
   "execution_count": null,
   "id": "754f8b49-cb69-41dc-92d2-3f4a9c459866",
   "metadata": {},
   "outputs": [],
   "source": []
  }
 ],
 "metadata": {
  "kernelspec": {
   "display_name": "Python [conda env:base] *",
   "language": "python",
   "name": "conda-base-py"
  },
  "language_info": {
   "codemirror_mode": {
    "name": "ipython",
    "version": 3
   },
   "file_extension": ".py",
   "mimetype": "text/x-python",
   "name": "python",
   "nbconvert_exporter": "python",
   "pygments_lexer": "ipython3",
   "version": "3.12.7"
  }
 },
 "nbformat": 4,
 "nbformat_minor": 5
}
