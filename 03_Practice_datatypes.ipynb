{
 "cells": [
  {
   "cell_type": "markdown",
   "id": "dccf5b72-4f3f-4d7b-b4b7-fc70c43010cb",
   "metadata": {},
   "source": [
    "Question1- What are the different data types in Python? Give examples of each\n"
   ]
  },
  {
   "cell_type": "code",
   "execution_count": 10,
   "id": "27325e20-13f6-4ca6-a93a-6e5b36cd914c",
   "metadata": {},
   "outputs": [],
   "source": [
    "#Primitive Datatypes\n",
    "a1=12 #integer\n",
    "a2=1.2 #float\n",
    "a3=\"Jake\" #String\n",
    "a4=True # Boolean\n",
    "a4=1+2j #complex\n",
    "a5={1,2,3,4,5} #set\n",
    "a6=(1,2,3)#tuple\n"
   ]
  },
  {
   "cell_type": "markdown",
   "id": "ffc5b222-4b8e-4ee1-9379-b3446aa556d3",
   "metadata": {},
   "source": [
    "Question2- How do you convert a string '123' into an integer?"
   ]
  },
  {
   "cell_type": "code",
   "execution_count": 13,
   "id": "90f76ff1-fc38-481e-9b9e-a6aa6e93562e",
   "metadata": {},
   "outputs": [
    {
     "name": "stdout",
     "output_type": "stream",
     "text": [
      "123\n"
     ]
    }
   ],
   "source": [
    "a=\"123\"\n",
    "b=int(a)\n",
    "print(a)"
   ]
  },
  {
   "cell_type": "markdown",
   "id": "089c92b3-d7c1-4fd7-ad37-35bc3c25529c",
   "metadata": {},
   "source": [
    "Question3-Write a Python program to check if a given variable is of type float.\n"
   ]
  },
  {
   "cell_type": "code",
   "execution_count": 16,
   "id": "f616c166-bfb7-41d2-9169-f4b51e68f3be",
   "metadata": {},
   "outputs": [
    {
     "name": "stdout",
     "output_type": "stream",
     "text": [
      "True\n"
     ]
    }
   ],
   "source": [
    "def checkTypeIsFloat(input):\n",
    "    return type(input) == float\n",
    "\n",
    "result = checkTypeIsFloat(3.4)\n",
    "print(result)"
   ]
  },
  {
   "cell_type": "markdown",
   "id": "00136069-ab59-442f-864e-a412e2ced592",
   "metadata": {},
   "source": [
    "Question4-Convert the list [1, 2, 3, 4] into a tuple and a set."
   ]
  },
  {
   "cell_type": "code",
   "execution_count": 19,
   "id": "d61e2922-f455-4d80-8242-6ff8a36e99c7",
   "metadata": {},
   "outputs": [
    {
     "name": "stdout",
     "output_type": "stream",
     "text": [
      "(1, 2, 3, 4)\n",
      "{1, 2, 3, 4}\n"
     ]
    }
   ],
   "source": [
    "l1 = [1, 2, 3, 4]\n",
    "liTup = tuple(l1)\n",
    "liSet = set(l1)\n",
    "\n",
    "print(liTup)\n",
    "print(liSet)"
   ]
  },
  {
   "cell_type": "markdown",
   "id": "bccf4f6c-351a-439e-8e23-618aaf400988",
   "metadata": {},
   "source": [
    "Question5-Write a Python script to calculate the length of a string provided by the user."
   ]
  },
  {
   "cell_type": "code",
   "execution_count": 22,
   "id": "8bb093c1-a718-4730-9a64-a2d69b74a2db",
   "metadata": {},
   "outputs": [
    {
     "name": "stdout",
     "output_type": "stream",
     "text": [
      "10\n"
     ]
    }
   ],
   "source": [
    "def cal_length_of_str(input):\n",
    "    return len(input)\n",
    "\n",
    "print(cal_length_of_str(\"here we go\"))"
   ]
  },
  {
   "cell_type": "markdown",
   "id": "ef6d9750-2b9a-4290-9720-9c55cc29fd63",
   "metadata": {},
   "source": [
    "Question6-Create a dictionary to store details of a student (name, age, grade). Retrieve the age from the dictionary."
   ]
  },
  {
   "cell_type": "code",
   "execution_count": 29,
   "id": "994e16bb-947d-46b7-b18a-90abd5146d7a",
   "metadata": {},
   "outputs": [
    {
     "name": "stdout",
     "output_type": "stream",
     "text": [
      "23\n",
      "Aanchal\n"
     ]
    }
   ],
   "source": [
    "stud1 = {\n",
    "    \"name\": \"Aanchal\",\n",
    "    \"age\": 23,\n",
    "    \"grade\": \"A\"\n",
    "}\n",
    "\n",
    "print(stud1[\"age\"])\n",
    "print(stud1[\"name\"])"
   ]
  },
  {
   "cell_type": "markdown",
   "id": "530bb4c0-7b32-4d2a-bcab-02d09c3e85b7",
   "metadata": {},
   "source": [
    "Question7-Write a program to check if a variable is mutable or immutable."
   ]
  },
  {
   "cell_type": "code",
   "execution_count": 32,
   "id": "d5af8995-4ecb-4493-a1fa-b5db7111bd29",
   "metadata": {},
   "outputs": [
    {
     "name": "stdout",
     "output_type": "stream",
     "text": [
      "True\n"
     ]
    }
   ],
   "source": [
    "#tuple,string immutable\n",
    "def checkMutability(input):\n",
    "    return type(input) == tuple or type(input) == str\n",
    "\n",
    "print(checkMutability((\"hey\", \"there\")))"
   ]
  },
  {
   "cell_type": "markdown",
   "id": "554d473a-2284-4932-9fa4-30f75413627f",
   "metadata": {},
   "source": [
    "Question8-Convert the integer 10 to binary, octal, and hexadecimal formats."
   ]
  },
  {
   "cell_type": "code",
   "execution_count": 45,
   "id": "e665702e-f4fe-4f2a-8087-812fd39618bb",
   "metadata": {},
   "outputs": [
    {
     "name": "stdout",
     "output_type": "stream",
     "text": [
      "0b1010\n",
      "0o12\n",
      "0xa\n"
     ]
    }
   ],
   "source": [
    "test1=10\n",
    "print(bin(10))\n",
    "print(oct(10))\n",
    "print(hex(10))"
   ]
  },
  {
   "cell_type": "markdown",
   "id": "6783eb8c-a28f-4a6b-9e63-d1ffe9141f46",
   "metadata": {},
   "source": [
    "Question9-Write a Python program to swap two numbers using tuple unpacking."
   ]
  },
  {
   "cell_type": "code",
   "execution_count": 48,
   "id": "5522cdf2-07ab-48ec-9d68-e7969f8b7aa9",
   "metadata": {},
   "outputs": [
    {
     "name": "stdout",
     "output_type": "stream",
     "text": [
      "12 10\n"
     ]
    }
   ],
   "source": [
    "a = 10\n",
    "b = 12\n",
    "a, b = b, a\n",
    "print(a, b)"
   ]
  },
  {
   "cell_type": "code",
   "execution_count": null,
   "id": "d05294bc-a8e2-41a6-ab37-79a90dd8d56a",
   "metadata": {},
   "outputs": [],
   "source": []
  }
 ],
 "metadata": {
  "kernelspec": {
   "display_name": "Python [conda env:base] *",
   "language": "python",
   "name": "conda-base-py"
  },
  "language_info": {
   "codemirror_mode": {
    "name": "ipython",
    "version": 3
   },
   "file_extension": ".py",
   "mimetype": "text/x-python",
   "name": "python",
   "nbconvert_exporter": "python",
   "pygments_lexer": "ipython3",
   "version": "3.12.7"
  }
 },
 "nbformat": 4,
 "nbformat_minor": 5
}
