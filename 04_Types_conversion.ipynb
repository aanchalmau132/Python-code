{
 "cells": [
  {
   "cell_type": "code",
   "execution_count": 1,
   "id": "7a0677da-679b-4f1e-90e9-36f52ae0a887",
   "metadata": {},
   "outputs": [],
   "source": [
    "a = 12\n",
    "b = float(a)\n",
    "# print(type(b))\n",
    "b = int(a)\n",
    "# print(type(b))\n",
    "b = complex(a)\n",
    "# print(type(b), b)\n"
   ]
  },
  {
   "cell_type": "code",
   "execution_count": 3,
   "id": "ea896a8c-5ff4-4249-ba5c-4280a8741e81",
   "metadata": {},
   "outputs": [
    {
     "name": "stdout",
     "output_type": "stream",
     "text": [
      "<class 'float'>\n",
      "<class 'int'>\n",
      "<class 'complex'> (12+0j)\n"
     ]
    }
   ],
   "source": [
    "a = 12\n",
    "b = float(a)\n",
    "print(type(b))\n",
    "b = int(a)\n",
    "print(type(b))\n",
    "b = complex(a)\n",
    "print(type(b), b)\n"
   ]
  },
  {
   "cell_type": "code",
   "execution_count": null,
   "id": "d0aa1148-39b1-40b2-94f2-cd49c261a114",
   "metadata": {},
   "outputs": [],
   "source": []
  }
 ],
 "metadata": {
  "kernelspec": {
   "display_name": "Python [conda env:base] *",
   "language": "python",
   "name": "conda-base-py"
  },
  "language_info": {
   "codemirror_mode": {
    "name": "ipython",
    "version": 3
   },
   "file_extension": ".py",
   "mimetype": "text/x-python",
   "name": "python",
   "nbconvert_exporter": "python",
   "pygments_lexer": "ipython3",
   "version": "3.12.7"
  }
 },
 "nbformat": 4,
 "nbformat_minor": 5
}
