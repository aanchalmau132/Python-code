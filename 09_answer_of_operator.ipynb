{
 "cells": [
  {
   "cell_type": "markdown",
   "id": "e76f85e0-1452-4002-bd51-870ad3d424b4",
   "metadata": {},
   "source": [
    "### Question 1: What will be the output?"
   ]
  },
  {
   "cell_type": "code",
   "execution_count": 4,
   "id": "0fcbedae-1639-48c5-a514-000697e0ddf3",
   "metadata": {},
   "outputs": [
    {
     "name": "stdout",
     "output_type": "stream",
     "text": [
      "3\n",
      "3\n",
      "50625\n"
     ]
    }
   ],
   "source": [
    "a = 15\n",
    "b = 4\n",
    "print(a // b) # Floor division operator\n",
    "print(a % b)\n",
    "print(a ** b) # Exponentiation operator"
   ]
  },
  {
   "cell_type": "markdown",
   "id": "d12d8b1f-e334-470a-8541-fccc725a6304",
   "metadata": {},
   "source": [
    "### Question 2: Write a program to calculate the area of a circle given its radius. (Use the formula area = π * r²)"
   ]
  },
  {
   "cell_type": "code",
   "execution_count": 9,
   "id": "78a5862e-fedf-46b0-8a3b-3fc604e1cf0b",
   "metadata": {},
   "outputs": [
    {
     "name": "stdout",
     "output_type": "stream",
     "text": [
      "50.24\n"
     ]
    }
   ],
   "source": [
    "def find_area_of_circle(radius):\n",
    "    return 3.14 * (radius ** 2)\n",
    "\n",
    "print(find_area_of_circle(4))\n"
   ]
  },
  {
   "cell_type": "markdown",
   "id": "9815dc05-aba2-4297-b0a6-554c1b5d4ebf",
   "metadata": {},
   "source": [
    "### Question 3: Predict the output:"
   ]
  },
  {
   "cell_type": "code",
   "execution_count": 16,
   "id": "2a7e53e2-bff1-4b81-b77a-223ba0ca3c09",
   "metadata": {},
   "outputs": [
    {
     "name": "stdout",
     "output_type": "stream",
     "text": [
      "False\n",
      "True\n",
      "True\n"
     ]
    }
   ],
   "source": [
    "x = 10\n",
    "y = 20\n",
    "print(x > y)\n",
    "print(x <= y)\n",
    "print(x == 10)\n"
   ]
  },
  {
   "cell_type": "markdown",
   "id": "704198c7-7480-4a95-bcf8-0f6ac0e9650a",
   "metadata": {},
   "source": [
    "### Question 4: What will be the output?"
   ]
  },
  {
   "cell_type": "code",
   "execution_count": 27,
   "id": "d7baafc2-c228-482d-a2e8-478197fef45b",
   "metadata": {},
   "outputs": [
    {
     "name": "stdout",
     "output_type": "stream",
     "text": [
      "False\n",
      "True\n",
      "False\n"
     ]
    }
   ],
   "source": [
    "a = True\n",
    "b = False\n",
    "print(a and b) # and \tReturns True if both statements are true\n",
    "print(a or b)# or Returns True if one of the statements is true\n",
    "print(not a) #Reverse the result, returns False if the result is true"
   ]
  },
  {
   "cell_type": "markdown",
   "id": "a6e4a09f-21e9-4a29-9ed5-8e4cdc116884",
   "metadata": {},
   "source": [
    "### Question 5: Convert 5 and 3 to binary and calculate 5 & 3, 5 | 3, and 5 ^ 3."
   ]
  },
  {
   "cell_type": "code",
   "execution_count": 34,
   "id": "7da8bd72-6c4b-4057-b4d7-00e53b070809",
   "metadata": {},
   "outputs": [
    {
     "name": "stdout",
     "output_type": "stream",
     "text": [
      "Binary of 5 is 0b101\n",
      "Binary of 3 is 0b11\n",
      "Bitwise OR between 5, 3 is 7\n",
      "Bitwise AND between 5, 3 is 1\n",
      "Bitwise XOR between 5, 3 is 6\n"
     ]
    }
   ],
   "source": [
    "binary_5 = bin(5)\n",
    "binary_3 = bin(3)\n",
    "\n",
    "print(f\"Binary of 5 is {binary_5}\")\n",
    "print(f\"Binary of 3 is {binary_3}\")\n",
    "\n",
    "r1 = 5 | 3\n",
    "r2 = 5 & 3\n",
    "r3 = 5 ^ 3\n",
    "\n",
    "print(f\"Bitwise OR between 5, 3 is {r1}\")\n",
    "print(f\"Bitwise AND between 5, 3 is {r2}\")\n",
    "print(f\"Bitwise XOR between 5, 3 is {r3}\")"
   ]
  },
  {
   "cell_type": "markdown",
   "id": "9482b760-cee5-41d1-9753-c91a94c9a988",
   "metadata": {},
   "source": [
    "### Question 6: What does 5 << 2 and 10 >> 1 mean? Calculate their results."
   ]
  },
  {
   "cell_type": "code",
   "execution_count": 41,
   "id": "aa87f5a2-aaf9-4fe5-aa05-562aac0c8cab",
   "metadata": {},
   "outputs": [
    {
     "name": "stdout",
     "output_type": "stream",
     "text": [
      "20\n",
      "5\n"
     ]
    }
   ],
   "source": [
    "print(5 << 2)  # Binary representation of 5 is 0101, left shift by 2: 00010100 = 20\n",
    "print(10 >> 1) # Binary representation of 10 is 1010, right shift by 1: 0101 = 5\n",
    "\n",
    "# Using formula:\n",
    "# digit << n = digit * 2**n\n",
    "# digit >> n = digit / 2**n"
   ]
  },
  {
   "cell_type": "markdown",
   "id": "ee09a481-567e-4026-ac92-e3f4037b4907",
   "metadata": {},
   "source": [
    "### Question 7: Write a program that uses +=, -=, *=, and /= to modify a variable"
   ]
  },
  {
   "cell_type": "code",
   "execution_count": 46,
   "id": "187a2794-7557-4a3f-a689-25358c98e069",
   "metadata": {},
   "outputs": [
    {
     "name": "stdout",
     "output_type": "stream",
     "text": [
      "0.0\n"
     ]
    }
   ],
   "source": [
    "def modify_value(value):\n",
    "    value += value\n",
    "    value /= value\n",
    "    value -= value\n",
    "    value *= value\n",
    "    return value\n",
    "\n",
    "print(modify_value(20))\n"
   ]
  },
  {
   "cell_type": "markdown",
   "id": "9f3d6a30-9e10-4297-a5ec-15f83a46d1a8",
   "metadata": {},
   "source": [
    "### Question 8: What will be the output?"
   ]
  },
  {
   "cell_type": "code",
   "execution_count": 53,
   "id": "d6da30c5-e1a3-434c-87da-34d168d8adc6",
   "metadata": {},
   "outputs": [
    {
     "name": "stdout",
     "output_type": "stream",
     "text": [
      "True\n",
      "False\n",
      "True\n",
      "True\n"
     ]
    }
   ],
   "source": [
    "a = [1, 2, 3]\n",
    "b = a\n",
    "c = [1, 2, 3]\n",
    "print(a is b)\n",
    "print(a is c)\n",
    "print(2 in a)\n",
    "print(4 not in a)"
   ]
  },
  {
   "cell_type": "markdown",
   "id": "d79f5844-0c35-432d-aca9-0184383bb5d6",
   "metadata": {},
   "source": [
    "### Question 9: Write a Python program that takes an integer input and:\n",
    "#### Checks if it’s even or odd using the modulus operator.\n",
    "#### Verifies if the number is between 10 and 50 using logical operators.\n",
    "#### Uses a bitwise operator to multiply the number by 4."
   ]
  },
  {
   "cell_type": "code",
   "execution_count": 56,
   "id": "194585a2-a1e5-499b-a93a-c7ca36516727",
   "metadata": {},
   "outputs": [
    {
     "name": "stdout",
     "output_type": "stream",
     "text": [
      "It is an even number\n",
      "The number is greater than 10 and less than 50\n",
      "48\n"
     ]
    }
   ],
   "source": [
    "def ops_performer(input):\n",
    "    if input % 2 == 0:\n",
    "        print(\"It is an even number\")\n",
    "    else:\n",
    "        print(\"It is an odd number\")\n",
    "\n",
    "    if 10 < input < 50:\n",
    "        print(\"The number is greater than 10 and less than 50\")\n",
    "\n",
    "    input = input << 2\n",
    "    print(input)\n",
    "\n",
    "ops_performer(12)"
   ]
  },
  {
   "cell_type": "code",
   "execution_count": null,
   "id": "a9d2b274-41e0-4968-b9fd-b15cbcbc283b",
   "metadata": {},
   "outputs": [],
   "source": []
  }
 ],
 "metadata": {
  "kernelspec": {
   "display_name": "Python [conda env:base] *",
   "language": "python",
   "name": "conda-base-py"
  },
  "language_info": {
   "codemirror_mode": {
    "name": "ipython",
    "version": 3
   },
   "file_extension": ".py",
   "mimetype": "text/x-python",
   "name": "python",
   "nbconvert_exporter": "python",
   "pygments_lexer": "ipython3",
   "version": "3.12.7"
  }
 },
 "nbformat": 4,
 "nbformat_minor": 5
}
