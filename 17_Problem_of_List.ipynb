{
 "cells": [
  {
   "cell_type": "markdown",
   "id": "c9854e5e-1a07-4f52-9130-651b47b01ce8",
   "metadata": {},
   "source": [
    "## Python List Practice Questions"
   ]
  },
  {
   "cell_type": "markdown",
   "id": "e147d3c5-1a11-482c-bf6c-327ff6f09c72",
   "metadata": {},
   "source": [
    "### 1️⃣Create a List and Print It\n",
    "Write a Python program to create a list of five different fruits and print the list."
   ]
  },
  {
   "cell_type": "code",
   "execution_count": 6,
   "id": "f95dda44-be22-47b4-a650-0e7b7cdbbcec",
   "metadata": {},
   "outputs": [
    {
     "name": "stdout",
     "output_type": "stream",
     "text": [
      "['orange', 'banana', 'grapes', 'mango', 'pineapple']\n"
     ]
    }
   ],
   "source": [
    "list1=[\"orange\",\"banana\",\"grapes\",\"mango\",\"pineapple\"]\n",
    "print(list1)"
   ]
  },
  {
   "cell_type": "markdown",
   "id": "d93589b3-120c-4239-8fbc-8c153517e3dc",
   "metadata": {},
   "source": [
    "### 2️⃣ Accessing List Elements"
   ]
  },
  {
   "cell_type": "markdown",
   "id": "ce19e10a-6569-41e1-880b-c04cff3be6ea",
   "metadata": {},
   "source": [
    "Given the list:\n",
    "\n",
    "numbers = [10, 20, 30, 40, 50]\n",
    "###### Print the first and last elements of the list."
   ]
  },
  {
   "cell_type": "code",
   "execution_count": 18,
   "id": "eda9d4bc-47e1-4f92-bf0f-045911fc3db0",
   "metadata": {},
   "outputs": [
    {
     "name": "stdout",
     "output_type": "stream",
     "text": [
      "10\n",
      "50\n"
     ]
    }
   ],
   "source": [
    "numbers = [10, 20, 30, 40, 50]\n",
    "print(numbers[0])\n",
    "print(numbers[-1])"
   ]
  },
  {
   "cell_type": "markdown",
   "id": "059d6a2d-986f-47f2-8d7b-7acefcbb6727",
   "metadata": {},
   "source": [
    "### 3️⃣ List Slicing"
   ]
  },
  {
   "cell_type": "markdown",
   "id": "266b53e2-bad2-4a11-87cf-c6955ffcbc72",
   "metadata": {},
   "source": [
    "Given the list:\n",
    "\n",
    "colors = [\"red\", \"green\", \"blue\", \"yellow\", \"purple\", \"orange\"]\n",
    "##### Extract and print the first three elements using slicing."
   ]
  },
  {
   "cell_type": "code",
   "execution_count": 29,
   "id": "f9ce91a1-efd9-414f-8577-332267356b86",
   "metadata": {},
   "outputs": [
    {
     "name": "stdout",
     "output_type": "stream",
     "text": [
      "['red', 'green', 'blue']\n"
     ]
    }
   ],
   "source": [
    "colors = [\"red\", \"green\", \"blue\", \"yellow\", \"purple\", \"orange\"]\n",
    "print(colors[:3])"
   ]
  },
  {
   "cell_type": "markdown",
   "id": "df948744-ac99-45d6-b952-71a478b34a5a",
   "metadata": {},
   "source": [
    "### 4️⃣ Modify a List"
   ]
  },
  {
   "cell_type": "markdown",
   "id": "38aca896-bbba-410b-9e01-b2abcab6d295",
   "metadata": {},
   "source": [
    "##### Create a list of three programming languages.\n",
    "##### Change the second element to \"JavaScript\".\n",
    "##### Print the modified list."
   ]
  },
  {
   "cell_type": "code",
   "execution_count": 36,
   "id": "6f8016ab-0946-4996-bcb9-e08f08ddeba3",
   "metadata": {},
   "outputs": [
    {
     "name": "stdout",
     "output_type": "stream",
     "text": [
      "['Python', 'JavaScript', 'c++']\n"
     ]
    }
   ],
   "source": [
    "list2=[\"Python\",\"Java\",\"c++\"]\n",
    "list2[1]=\"JavaScript\"\n",
    "print(list2)"
   ]
  },
  {
   "cell_type": "markdown",
   "id": "64827b1f-9a8d-4859-83c2-07b1dcacf1f3",
   "metadata": {},
   "source": [
    "### 5️⃣ Add and Remove Elements"
   ]
  },
  {
   "cell_type": "markdown",
   "id": "0db18bc1-be77-4738-befa-c10bad85c31f",
   "metadata": {},
   "source": [
    "##### Create an empty list.\n",
    "##### Append the numbers 1, 2, and 3 to the list.\n",
    "##### Remove the second element.\n",
    "##### Print the final list."
   ]
  },
  {
   "cell_type": "code",
   "execution_count": 51,
   "id": "9c7c2a3d-9aa5-4c7a-90a7-f823c5ac8fdf",
   "metadata": {},
   "outputs": [
    {
     "name": "stdout",
     "output_type": "stream",
     "text": [
      "[1, 2, 3]\n",
      "[1, 3]\n"
     ]
    }
   ],
   "source": [
    "list3=[]\n",
    "# append 1,2,3\n",
    "list3.append(1)\n",
    "list3.append(2)\n",
    "list3.append(3)\n",
    "print(list3)\n",
    "\n",
    "# remove second element 2 which index no. is 1\n",
    "del list3[1]\n",
    "\n",
    "print(list3)"
   ]
  },
  {
   "cell_type": "markdown",
   "id": "2c1cb62c-481b-44b5-a69e-66152689e7ed",
   "metadata": {},
   "source": [
    "### 6️⃣ Find the Sum of List Elements"
   ]
  },
  {
   "cell_type": "markdown",
   "id": "68632547-ed3f-4fe6-9a35-96f4269933c0",
   "metadata": {},
   "source": [
    "Write a Python program to find the sum of all elements in the following list:\n",
    "\n",
    "numbers = [4, 7, 1, 8, 3]"
   ]
  },
  {
   "cell_type": "code",
   "execution_count": 55,
   "id": "4d246a8e-7a62-40bf-a273-1c0f439efc31",
   "metadata": {},
   "outputs": [
    {
     "name": "stdout",
     "output_type": "stream",
     "text": [
      "Sum of all elements: 23\n"
     ]
    }
   ],
   "source": [
    "# Given list\n",
    "numbers = [4, 7, 1, 8, 3]\n",
    "\n",
    "# Calculate the sum of all elements\n",
    "total_sum = sum(numbers)\n",
    "\n",
    "# Print the result\n",
    "print(\"Sum of all elements:\", total_sum)\n"
   ]
  },
  {
   "cell_type": "markdown",
   "id": "0271282b-b690-417e-b053-bf89fc182ca6",
   "metadata": {},
   "source": [
    "### 7️⃣ Find the Maximum and Minimum"
   ]
  },
  {
   "cell_type": "markdown",
   "id": "96daef84-f78e-4a00-b987-0721991516a9",
   "metadata": {},
   "source": [
    "Write a program to find the maximum and minimum values in this list:\n",
    "\n",
    "values = [23, 67, 12, 89, 34, 50]"
   ]
  },
  {
   "cell_type": "code",
   "execution_count": 61,
   "id": "9f400f93-5ffe-4eb4-957f-25743e503948",
   "metadata": {},
   "outputs": [
    {
     "name": "stdout",
     "output_type": "stream",
     "text": [
      "Maximum value: 89\n",
      "Minimum value: 12\n"
     ]
    }
   ],
   "source": [
    "# Given list\n",
    "values = [23, 67, 12, 89, 34, 50]\n",
    "\n",
    "# Find the maximum and minimum values\n",
    "max_value = max(values)\n",
    "min_value = min(values)\n",
    "\n",
    "# Print the results\n",
    "print(\"Maximum value:\", max_value)\n",
    "print(\"Minimum value:\", min_value)\n"
   ]
  },
  {
   "cell_type": "markdown",
   "id": "c6eab4fe-fb13-4f0d-9909-c45ced9013fe",
   "metadata": {},
   "source": [
    "### 8️⃣ Check if an Element Exists\n"
   ]
  },
  {
   "cell_type": "markdown",
   "id": "0503d285-a552-4335-85fd-abac68ec9b9b",
   "metadata": {},
   "source": [
    "Write a Python program that checks if \"apple\" exists in the following list and prints \"Found\" if it exists or \"Not Found\" otherwise.\n",
    "\n",
    "fruits = [\"banana\", \"orange\", \"grapes\", \"apple\", \"mango\"]"
   ]
  },
  {
   "cell_type": "code",
   "execution_count": 69,
   "id": "4666ddf6-fd20-44c1-a22a-072d795259de",
   "metadata": {},
   "outputs": [
    {
     "name": "stdout",
     "output_type": "stream",
     "text": [
      "Found\n"
     ]
    }
   ],
   "source": [
    "fruits = [\"banana\", \"orange\", \"grapes\", \"apple\", \"mango\"]\n",
    "if \"apple\" in fruits:\n",
    "    print(\"Found\")\n",
    "else:\n",
    "    print(\"Not Found\")\n"
   ]
  },
  {
   "cell_type": "markdown",
   "id": "ee6fd2e8-32e3-4382-bc40-a0287ceea328",
   "metadata": {},
   "source": [
    "### 9️⃣ Reverse a List"
   ]
  },
  {
   "cell_type": "markdown",
   "id": "71c2d692-4f46-42df-bc86-94b77a2cb3da",
   "metadata": {},
   "source": [
    "##### Given the list:\n",
    "\n",
    "##### names = [\"Alice\", \"Bob\", \"Charlie\", \"David\"]\n",
    "##### Reverse the list and print it."
   ]
  },
  {
   "cell_type": "code",
   "execution_count": 86,
   "id": "77955911-3f4e-4fe7-984b-14e0ebe4af56",
   "metadata": {},
   "outputs": [
    {
     "name": "stdout",
     "output_type": "stream",
     "text": [
      "['David', 'Charlie', 'Bob', 'Alice']\n"
     ]
    }
   ],
   "source": [
    "names = [\"Alice\", \"Bob\", \"Charlie\", \"David\"]\n",
    "\n",
    "reverse_names = names[::-1] #reverse by slicing\n",
    "\n",
    "print(reverse_names)\n"
   ]
  },
  {
   "cell_type": "code",
   "execution_count": 88,
   "id": "a6ed2187-7966-4f53-b1a0-ea5edd9910c7",
   "metadata": {},
   "outputs": [
    {
     "name": "stdout",
     "output_type": "stream",
     "text": [
      "['David', 'Charlie', 'Bob', 'Alice']\n"
     ]
    }
   ],
   "source": [
    "# Given list\n",
    "names = [\"Alice\", \"Bob\", \"Charlie\", \"David\"]\n",
    "\n",
    "# Reverse the list using reverse()\n",
    "names.reverse()\n",
    "\n",
    "# Print the reversed list\n",
    "print(names)\n"
   ]
  },
  {
   "cell_type": "markdown",
   "id": "7f054d23-8c33-4a76-a896-f872c2a415e0",
   "metadata": {},
   "source": [
    "### 🔟 List Comprehension"
   ]
  },
  {
   "cell_type": "markdown",
   "id": "23fe723d-24b4-4985-84b2-2b68706d7344",
   "metadata": {},
   "source": [
    "Use list comprehension to generate a list of squares for numbers from 1 to 10.\n",
    "\n",
    "squares = # Your code here\n",
    "print(squares)"
   ]
  },
  {
   "cell_type": "code",
   "execution_count": 92,
   "id": "dbf0affc-8c0c-43e1-8849-db8cf5da0be7",
   "metadata": {},
   "outputs": [
    {
     "name": "stdout",
     "output_type": "stream",
     "text": [
      "[1, 4, 9, 16, 25, 36, 49, 64, 81, 100]\n"
     ]
    }
   ],
   "source": [
    "# Using list comprehension to generate squares\n",
    "squares = [x**2 for x in range(1, 11)] # range start with1 and end with 10\n",
    "\n",
    "# Print the list of squares\n",
    "print(squares)\n"
   ]
  },
  {
   "cell_type": "code",
   "execution_count": null,
   "id": "dec3ea35-26b4-4cb1-b90e-b3e18e749bc1",
   "metadata": {},
   "outputs": [],
   "source": []
  }
 ],
 "metadata": {
  "kernelspec": {
   "display_name": "Python [conda env:base] *",
   "language": "python",
   "name": "conda-base-py"
  },
  "language_info": {
   "codemirror_mode": {
    "name": "ipython",
    "version": 3
   },
   "file_extension": ".py",
   "mimetype": "text/x-python",
   "name": "python",
   "nbconvert_exporter": "python",
   "pygments_lexer": "ipython3",
   "version": "3.12.7"
  }
 },
 "nbformat": 4,
 "nbformat_minor": 5
}
