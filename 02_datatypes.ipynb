{
 "cells": [
  {
   "cell_type": "code",
   "execution_count": 9,
   "id": "520a5c88-d839-4d1c-a266-4177b4a9ed87",
   "metadata": {
    "scrolled": true
   },
   "outputs": [
    {
     "name": "stdout",
     "output_type": "stream",
     "text": [
      "[1, 2, True, [1, 2, 3], 'hat']\n",
      "{'name': 'ted', 'last': 'talks'}\n",
      "b'This is a string'\n",
      "b'\\xff\\xfeT\\x00h\\x00i\\x00s\\x00 \\x00i\\x00s\\x00 \\x00a\\x00 \\x00s\\x00t\\x00r\\x00i\\x00n\\x00g\\x00'\n"
     ]
    }
   ],
   "source": [
    "# Numeric data\n",
    "num1 = 12\n",
    "num2 = 2.33\n",
    "complexNum = 2 + 3j\n",
    "# print(type(complexNum))\n",
    "# print(type(num1))\n",
    "# print(type(num2))\n",
    "\n",
    "# Text data\n",
    "st1 = \"Hello there\"\n",
    "\n",
    "# Boolean\n",
    "isTrue = True\n",
    "isHealthy = False\n",
    "\n",
    "# Sequenced data\n",
    "\n",
    "# 1. List\n",
    "mixList = [1,2,True,[1,2,3],\"hat\"]\n",
    "print(mixList)\n",
    "\n",
    "# 2. Tuple\n",
    "tuple1 = (1,2,3)\n",
    "# print(tuple1)\n",
    "\n",
    "tuple2  = ((\"ping\",\"100\"),(\"org\",\"ff\"))\n",
    "\n",
    "# 3. Range\n",
    "r1 = range(1,10,2)\n",
    "# print(list(r1))\n",
    "for i in r1:\n",
    "    i\n",
    "\n",
    "# 4. Dictionary\n",
    "dict1 = {\"name\":\"ted\",\"last\":\"talks\"}\n",
    "print(dict1)\n",
    "\n",
    "# 5. Converting string to bytes\n",
    "str1 = \"This is a string\"\n",
    "arr1 = bytes(str1, 'utf-8')\n",
    "print(arr1)\n",
    "arr2 = bytes(str1, 'utf-16')\n",
    "print(arr2)\n",
    "\n",
    "# Creating bytes of given size\n",
    "# bytestr = bytes(4)\n",
    "# print(bytestr)\n",
    "\n",
    "# 6. Set\n",
    "numSet = {1,2,33,4,1,1}\n",
    "# print(numSet)"
   ]
  },
  {
   "cell_type": "markdown",
   "id": "9469e4e6-4b50-4ba7-97d8-51e2309de025",
   "metadata": {},
   "source": [
    "### What are the different data types in Python? Give examples of each"
   ]
  },
  {
   "cell_type": "code",
   "execution_count": 12,
   "id": "1ba4aee9-086f-4fbe-9f1f-0bdb1e69094a",
   "metadata": {},
   "outputs": [],
   "source": [
    "d1 = \"this is string\" # string\n",
    "d2 = 12 # number\n",
    "d3 = None # use as a placeholder \n",
    "d4 = [1,2,3,4] # list\n",
    "d5 = {\"name\":\"vishal\",\"partner\":\"unknown\"} # dictionary\n",
    "d6 = range(1,5,1) # range\n",
    "d7 = {1,2,3,5,2,2,3} # set\n",
    "d8 = True # boolean\n",
    "d9 = (\"stuff\",\"needs\",\"to\",\"get\",\"done\") # tuple"
   ]
  },
  {
   "cell_type": "markdown",
   "id": "d37244bd-eca0-4374-b962-5df5a6904c56",
   "metadata": {},
   "source": [
    "### Identify the data type of the following:"
   ]
  },
  {
   "cell_type": "code",
   "execution_count": 17,
   "id": "bb8f09b1-3e5b-45d1-86ae-15d50e91b0c6",
   "metadata": {},
   "outputs": [
    {
     "name": "stdout",
     "output_type": "stream",
     "text": [
      "<class 'int'>\n",
      "<class 'float'>\n",
      "<class 'str'>\n",
      "<class 'bool'>\n",
      "<class 'list'>\n",
      "<class 'dict'>\n"
     ]
    }
   ],
   "source": [
    "print(type(42))  # int\n",
    "print(type(3.14))  # float\n",
    "print(type('Hello, world!'))  # str\n",
    "print(type(True))  # bool\n",
    "print(type([1, 2, 3]))  # list\n",
    "print(type({ \"name\": \"Alice\", \"age\": 25 }))  # dict"
   ]
  },
  {
   "cell_type": "markdown",
   "id": "e61860c7-90f2-45f6-8901-60fb4445386a",
   "metadata": {},
   "source": [
    "### How do you convert a string '123' into an integer?"
   ]
  },
  {
   "cell_type": "code",
   "execution_count": 20,
   "id": "92389788-19b3-469b-9e04-e7fd22846d9f",
   "metadata": {},
   "outputs": [
    {
     "name": "stdout",
     "output_type": "stream",
     "text": [
      "123\n"
     ]
    },
    {
     "name": "stdin",
     "output_type": "stream",
     "text": [
      "Enter the number 376\n"
     ]
    }
   ],
   "source": [
    "str1 = \"123\"\n",
    "num1 = int(str1)\n",
    "print(num1)\n",
    "num2 = int(input(\"Enter the number\"))"
   ]
  },
  {
   "cell_type": "markdown",
   "id": "9daff7ea-3e6d-47a4-8b8a-9aa7f2c34694",
   "metadata": {},
   "source": [
    "### Write a Python program to check if a given variable is of type float"
   ]
  },
  {
   "cell_type": "code",
   "execution_count": 25,
   "id": "38d1dd8e-b816-45f5-9625-a15978459417",
   "metadata": {},
   "outputs": [
    {
     "name": "stdout",
     "output_type": "stream",
     "text": [
      "True\n"
     ]
    }
   ],
   "source": [
    "def checkTypeIsFloat(input):\n",
    "    return type(input) == float\n",
    "\n",
    "result = checkTypeIsFloat(3.4)\n",
    "print(result)"
   ]
  },
  {
   "cell_type": "markdown",
   "id": "2c22ce2e-533c-4332-a57f-7e9a72bcca0a",
   "metadata": {},
   "source": [
    "### Convert the list [1, 2, 3, 4] into a tuple and a set."
   ]
  },
  {
   "cell_type": "code",
   "execution_count": 27,
   "id": "1e8604c1-0ced-4736-8618-44026dfa186d",
   "metadata": {},
   "outputs": [
    {
     "name": "stdout",
     "output_type": "stream",
     "text": [
      "(1, 2, 3, 4)\n",
      "{1, 2, 3, 4}\n"
     ]
    }
   ],
   "source": [
    "l1 = [1, 2, 3, 4]\n",
    "liTup = tuple(l1)\n",
    "liSet = set(l1)\n",
    "\n",
    "print(liTup)\n",
    "print(liSet)"
   ]
  },
  {
   "cell_type": "markdown",
   "id": "8118d73b-56fa-4345-8d4c-be2fc94d34ac",
   "metadata": {},
   "source": [
    "### Write a Python script to calculate the length of a string provided by the user."
   ]
  },
  {
   "cell_type": "code",
   "execution_count": 31,
   "id": "c2ea804f-344c-49c9-ba43-26b599e594aa",
   "metadata": {},
   "outputs": [
    {
     "name": "stdout",
     "output_type": "stream",
     "text": [
      "10\n"
     ]
    }
   ],
   "source": [
    "def cal_length_of_str(input):\n",
    "    return len(input)\n",
    "\n",
    "print(cal_length_of_str(\"here we go\"))"
   ]
  },
  {
   "cell_type": "markdown",
   "id": "c4dd97f1-4591-4a4a-a46f-b51f6b9ec431",
   "metadata": {},
   "source": [
    "### Create a dictionary to store details of a student (name, age, grade). Retrieve the age from the dictionary."
   ]
  },
  {
   "cell_type": "code",
   "execution_count": 34,
   "id": "59a9ee58-b0c8-4586-b171-30795227c4d4",
   "metadata": {},
   "outputs": [
    {
     "name": "stdout",
     "output_type": "stream",
     "text": [
      "12\n"
     ]
    }
   ],
   "source": [
    "stud1 = {\n",
    "    \"name\": \"lexy\",\n",
    "    \"age\": 12,\n",
    "    \"grade\": \"A\"\n",
    "}\n",
    "\n",
    "print(stud1[\"age\"])"
   ]
  },
  {
   "cell_type": "markdown",
   "id": "abc3375b-bd61-414b-96fc-a6ed53d252b2",
   "metadata": {},
   "source": [
    "### Write a program to check if a variable is mutable or immutable."
   ]
  },
  {
   "cell_type": "code",
   "execution_count": 37,
   "id": "dc4c86e6-6e90-442a-a72f-435a86c35edb",
   "metadata": {},
   "outputs": [
    {
     "name": "stdout",
     "output_type": "stream",
     "text": [
      "True\n"
     ]
    }
   ],
   "source": [
    "def checkMutability(input):\n",
    "    return type(input) == tuple or type(input) == str\n",
    "\n",
    "print(checkMutability((\"hey\", \"there\")))"
   ]
  },
  {
   "cell_type": "code",
   "execution_count": 41,
   "id": "64fdfde0-523b-40eb-b2f3-943a01f0295d",
   "metadata": {},
   "outputs": [
    {
     "name": "stdout",
     "output_type": "stream",
     "text": [
      "False\n"
     ]
    }
   ],
   "source": [
    "def checkMutability(input):\n",
    "    return type(input) == tuple or type(input) == str\n",
    "\n",
    "print(checkMutability([\"hy\", \"thre\"]))"
   ]
  },
  {
   "cell_type": "markdown",
   "id": "4a2c873b-962d-4de2-ac56-0c6583e6a96f",
   "metadata": {},
   "source": [
    "### Convert the integer 10 to binary, octal, and hexadecimal formats."
   ]
  },
  {
   "cell_type": "code",
   "execution_count": 44,
   "id": "69a75d6b-5691-4770-a45c-9d3f27486685",
   "metadata": {},
   "outputs": [
    {
     "name": "stdout",
     "output_type": "stream",
     "text": [
      "Binary format of 10 is 0b1010\n",
      "Octal format of 10 is 0o12\n",
      "Hexadecimal format of 10 is 0xa\n"
     ]
    }
   ],
   "source": [
    "num = 10\n",
    "\n",
    "binary = bin(num)\n",
    "print(f\"Binary format of {num} is {binary}\")\n",
    "\n",
    "octal = oct(num)\n",
    "print(f\"Octal format of {num} is {octal}\")\n",
    "\n",
    "hexadecimal = hex(num)\n",
    "print(f\"Hexadecimal format of {num} is {hexadecimal}\")"
   ]
  },
  {
   "cell_type": "markdown",
   "id": "b6bd7e52-62a5-47bf-b379-900f20340866",
   "metadata": {},
   "source": [
    "### Write a Python program to swap two numbers using tuple unpacking."
   ]
  },
  {
   "cell_type": "code",
   "execution_count": 47,
   "id": "6e0b853b-ba3a-46fd-a1db-ec5edeb09723",
   "metadata": {},
   "outputs": [
    {
     "name": "stdout",
     "output_type": "stream",
     "text": [
      "12 10\n"
     ]
    }
   ],
   "source": [
    "a = 10\n",
    "b = 12\n",
    "a, b = b, a\n",
    "print(a, b)"
   ]
  },
  {
   "cell_type": "code",
   "execution_count": null,
   "id": "dab0eac1-5eb3-4d6d-9f70-8d8f0a6e1496",
   "metadata": {},
   "outputs": [],
   "source": []
  }
 ],
 "metadata": {
  "kernelspec": {
   "display_name": "Python [conda env:base] *",
   "language": "python",
   "name": "conda-base-py"
  },
  "language_info": {
   "codemirror_mode": {
    "name": "ipython",
    "version": 3
   },
   "file_extension": ".py",
   "mimetype": "text/x-python",
   "name": "python",
   "nbconvert_exporter": "python",
   "pygments_lexer": "ipython3",
   "version": "3.12.7"
  }
 },
 "nbformat": 4,
 "nbformat_minor": 5
}
