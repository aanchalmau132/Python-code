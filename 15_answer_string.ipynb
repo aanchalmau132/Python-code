{
 "cells": [
  {
   "cell_type": "markdown",
   "id": "df5dde70-4e82-48bd-8aa6-449761cb8c6d",
   "metadata": {},
   "source": [
    "### Question 1: Concatenate two strings without using the + operator."
   ]
  },
  {
   "cell_type": "code",
   "execution_count": 4,
   "id": "f191367d-0789-415a-9784-12a4b6159343",
   "metadata": {},
   "outputs": [
    {
     "name": "stdout",
     "output_type": "stream",
     "text": [
      "hello world\n",
      "hello world\n",
      "hello world\n",
      "second first\n"
     ]
    }
   ],
   "source": [
    "# Using f-string\n",
    "str1 = \"hello\"\n",
    "str2 = \"world\"\n",
    "print(f\"{str1} {str2}\")\n",
    "\n",
    "# Using join method\n",
    "print(\" \".join([str1, str2]))\n",
    "\n",
    "# Using format method\n",
    "print(\"{} {}\".format(str1, str2))\n",
    "print(\"{1} {0}\".format(\"first\", \"second\"))"
   ]
  },
  {
   "cell_type": "markdown",
   "id": "97674492-a6e8-4f3d-9bc3-856bb40c747b",
   "metadata": {},
   "source": [
    "### Question 2: Reverse the string 'Python' using slicing."
   ]
  },
  {
   "cell_type": "code",
   "execution_count": 7,
   "id": "449a76d1-74df-404a-a9f0-d12117ddf522",
   "metadata": {},
   "outputs": [
    {
     "name": "stdout",
     "output_type": "stream",
     "text": [
      "nohtyP\n"
     ]
    }
   ],
   "source": [
    "def reverseStr(input):\n",
    "    return input[::-1]\n",
    "\n",
    "print(reverseStr(\"Python\"))"
   ]
  },
  {
   "cell_type": "markdown",
   "id": "7c9209bd-21ad-4cdc-acbb-c47a5073a5bc",
   "metadata": {},
   "source": [
    "### Question 3: Check if the string 'level' is a palindrome."
   ]
  },
  {
   "cell_type": "code",
   "execution_count": 10,
   "id": "0c917fd5-7119-4f2b-84bd-3625ee42fe3e",
   "metadata": {},
   "outputs": [
    {
     "name": "stdout",
     "output_type": "stream",
     "text": [
      "True\n"
     ]
    }
   ],
   "source": [
    "def checkPalindrome(input):\n",
    "    return input == input[::-1]\n",
    "\n",
    "print(checkPalindrome(\"level\"))"
   ]
  },
  {
   "cell_type": "markdown",
   "id": "2376efce-0e5a-4080-8d61-8ddb30f6a7cd",
   "metadata": {},
   "source": [
    "### Question 4: Convert 'hello world' to uppercase and 'PYTHON' to lowercase."
   ]
  },
  {
   "cell_type": "code",
   "execution_count": 15,
   "id": "25cf098e-478d-441d-bdfb-bbe4fc0398f3",
   "metadata": {},
   "outputs": [
    {
     "name": "stdout",
     "output_type": "stream",
     "text": [
      "HELLO WORLD\n",
      "hello world\n"
     ]
    }
   ],
   "source": [
    "str3 = \"hello world\"\n",
    "print(str3.upper())\n",
    "print(str3.lower())"
   ]
  },
  {
   "cell_type": "markdown",
   "id": "98ccda9b-ee7d-4e7d-b53d-9e060808a8a4",
   "metadata": {},
   "source": [
    "### Question 5: Remove leading and trailing spaces from the string ' Python '."
   ]
  },
  {
   "cell_type": "code",
   "execution_count": 18,
   "id": "af4a4e61-40b6-4d76-bec8-c5c6a3f2fb85",
   "metadata": {},
   "outputs": [
    {
     "name": "stdout",
     "output_type": "stream",
     "text": [
      " Python\n",
      "Python \n",
      "Python\n"
     ]
    }
   ],
   "source": [
    "str4 = \" Python \"\n",
    "print(str4.rstrip())\n",
    "print(str4.lstrip())\n",
    "print(str4.strip())"
   ]
  },
  {
   "cell_type": "markdown",
   "id": "464f2abc-9247-4e62-b53c-c5cb168e52f2",
   "metadata": {},
   "source": [
    "### Question 6: Replace all occurrences of 'apple' with 'orange' in the string 'apple pie and apple juice'."
   ]
  },
  {
   "cell_type": "code",
   "execution_count": 21,
   "id": "f785d6d3-ea0d-4b85-84e6-1b0c96f1d4ff",
   "metadata": {},
   "outputs": [
    {
     "name": "stdout",
     "output_type": "stream",
     "text": [
      "orange pie and orange juice\n"
     ]
    }
   ],
   "source": [
    "str5 = \"apple pie and apple juice\"\n",
    "print(str5.replace(\"apple\", \"orange\"))"
   ]
  },
  {
   "cell_type": "markdown",
   "id": "217d59f0-1a47-4de7-9f5b-d39883c4abdd",
   "metadata": {},
   "source": [
    "### Question 7: Find the position of the first occurrence of 'world' in 'Hello world, welcome to the world of Python!'."
   ]
  },
  {
   "cell_type": "code",
   "execution_count": 24,
   "id": "53c3f95c-6d71-4e20-914d-de5a8de9f75f",
   "metadata": {},
   "outputs": [
    {
     "name": "stdout",
     "output_type": "stream",
     "text": [
      "6\n"
     ]
    }
   ],
   "source": [
    "str6 = \"Hello world, welcome to the world of Python!\"\n",
    "print(str6.find(\"world\"))"
   ]
  },
  {
   "cell_type": "markdown",
   "id": "ee3363ae-2194-4101-8269-ca67c41fa072",
   "metadata": {},
   "source": [
    "### Question 8: Concatenation and Repetition"
   ]
  },
  {
   "cell_type": "code",
   "execution_count": 27,
   "id": "3910e1ef-9dd0-459e-bcfb-cd4e6fc2fb50",
   "metadata": {},
   "outputs": [
    {
     "name": "stdout",
     "output_type": "stream",
     "text": [
      "helloworld\n"
     ]
    }
   ],
   "source": [
    "str1=\"hello\"\n",
    "str2=\"world\"\n",
    "print(str1 + str2)"
   ]
  },
  {
   "cell_type": "code",
   "execution_count": 29,
   "id": "22fb5ef5-af98-4edc-9a31-4f9d17b54e82",
   "metadata": {},
   "outputs": [
    {
     "name": "stdout",
     "output_type": "stream",
     "text": [
      "Hello WorldHello WorldHello World\n"
     ]
    }
   ],
   "source": [
    "str6 = \"Hello\"\n",
    "str7 = \"World\"\n",
    "newStr = \" \".join([str6, str7])\n",
    "print(newStr * 3)"
   ]
  },
  {
   "cell_type": "markdown",
   "id": "642b2fe8-5397-4651-86a7-cd47bb38ff93",
   "metadata": {},
   "source": [
    "### Question 9: Indexing and Slicing"
   ]
  },
  {
   "cell_type": "code",
   "execution_count": 2,
   "id": "e3c97062-9ee0-4fcf-87a1-158e727b553c",
   "metadata": {},
   "outputs": [
    {
     "name": "stdout",
     "output_type": "stream",
     "text": [
      "Python\n",
      "mming\n",
      "PtoPormig\n",
      "gnimmargorPnohtyP\n"
     ]
    }
   ],
   "source": [
    "str8 = \"PythonProgramming\"\n",
    "print(str8[:6])  # First 6 characters\n",
    "print(str8[-5:])  # Last 5 characters\n",
    "print(str8[::2])  # Characters at even indices\n",
    "print(str8[::-1])  # Reverse the string"
   ]
  },
  {
   "cell_type": "markdown",
   "id": "7b12369e-b47a-4bfb-b83e-aa42d09c3132",
   "metadata": {},
   "source": [
    "### Question 10: Manipulation Methods"
   ]
  },
  {
   "cell_type": "code",
   "execution_count": 5,
   "id": "6078406b-8c07-414e-87a9-c876911982f6",
   "metadata": {},
   "outputs": [
    {
     "name": "stdout",
     "output_type": "stream",
     "text": [
      "Python is AWESOME!!!\n",
      " PYTHON IS AWESOME!!!   python is awesome!!!   Python Is Awesome!!! \n",
      " Python is great!!! \n",
      "['', 'Python', 'is', 'AWESOME!!!', '']\n",
      "-Python-is-AWESOME!!!-\n"
     ]
    }
   ],
   "source": [
    "str9 = \" Python is AWESOME!!! \"\n",
    "print(str9.strip())  # Remove leading and trailing spaces\n",
    "print(str9.upper(), str9.lower(), str9.title())  # Case conversions\n",
    "print(str9.replace(\"AWESOME\", \"great\"))  # Replace substring\n",
    "print(str9.split(\" \"))  # Split the string\n",
    "print(\"-\".join(str9.split(\" \")))  # Join with hyphen"
   ]
  },
  {
   "cell_type": "markdown",
   "id": "cbe24811-7b9c-4b31-aa00-f26376c472a5",
   "metadata": {},
   "source": [
    "### Question 11: Check if the strings below are alphanumeric, alphabetic, numeric, uppercase, or lowercase."
   ]
  },
  {
   "cell_type": "code",
   "execution_count": 10,
   "id": "1f9f2b0f-9307-4f85-aa88-8ce6367f5cc3",
   "metadata": {},
   "outputs": [
    {
     "name": "stdout",
     "output_type": "stream",
     "text": [
      "True\n",
      "True\n",
      "True\n",
      "True\n",
      "False\n"
     ]
    }
   ],
   "source": [
    "print(\"Python123\".isalnum())\n",
    "print(\"2025\".isnumeric())\n",
    "print(\"HELLO\".isupper())\n",
    "print(\"hello\".islower())\n",
    "print(\"$money$\".isalpha())"
   ]
  },
  {
   "cell_type": "code",
   "execution_count": null,
   "id": "8419ae0d-7f20-482a-ba53-388cffcbb4a1",
   "metadata": {},
   "outputs": [],
   "source": []
  }
 ],
 "metadata": {
  "kernelspec": {
   "display_name": "Python [conda env:base] *",
   "language": "python",
   "name": "conda-base-py"
  },
  "language_info": {
   "codemirror_mode": {
    "name": "ipython",
    "version": 3
   },
   "file_extension": ".py",
   "mimetype": "text/x-python",
   "name": "python",
   "nbconvert_exporter": "python",
   "pygments_lexer": "ipython3",
   "version": "3.12.7"
  }
 },
 "nbformat": 4,
 "nbformat_minor": 5
}
