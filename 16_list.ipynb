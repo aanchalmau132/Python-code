{
 "cells": [
  {
   "cell_type": "markdown",
   "id": "cc26bb80-f1e2-43a8-b9b8-c91879f5c23e",
   "metadata": {},
   "source": [
    "### Basics of list"
   ]
  },
  {
   "cell_type": "code",
   "execution_count": 2,
   "id": "fb6c7f34-593f-49e1-94b1-4e6890053ed7",
   "metadata": {},
   "outputs": [
    {
     "name": "stdout",
     "output_type": "stream",
     "text": [
      "1\n",
      "[4, 3, 2, 1]\n",
      "True\n"
     ]
    }
   ],
   "source": [
    "list1 = [1,2,3,4]\n",
    "#accessing the string using array notation\n",
    "\n",
    "print(list1[0])\n",
    "print(list1[::-1])\n",
    "#same as of string slicing\n",
    "\n",
    "#cheking the item present in list using in operator\n",
    "print(1 in list1) #membership operator"
   ]
  },
  {
   "cell_type": "markdown",
   "id": "ca05e534-465a-45a6-a6a9-c6455f0c551f",
   "metadata": {},
   "source": [
    "### List adding methods"
   ]
  },
  {
   "cell_type": "code",
   "execution_count": 1,
   "id": "bb795b28-1e84-46f0-ad6e-53c5351370ab",
   "metadata": {},
   "outputs": [
    {
     "name": "stdout",
     "output_type": "stream",
     "text": [
      "['first', 'second', 'third', 100]\n"
     ]
    }
   ],
   "source": [
    "list2 = [\"first\",\"second\", \"third\"]\n",
    "# list2.append(\"fourth\")\n",
    "# list2.append(5)\n",
    "list2.insert(3,100)\n",
    "# arr1.extend([6,7,8,9])\n",
    "print(list2)"
   ]
  },
  {
   "cell_type": "markdown",
   "id": "f5f17ee1-3aad-4e0f-b234-226c6ffeb1b4",
   "metadata": {},
   "source": [
    "### List Deleting methods"
   ]
  },
  {
   "cell_type": "code",
   "execution_count": 9,
   "id": "cf4aec63-f697-43d0-afe7-8d2b6671c323",
   "metadata": {},
   "outputs": [
    {
     "name": "stdout",
     "output_type": "stream",
     "text": [
      "4\n",
      "[1, 2, 3]\n",
      "1\n"
     ]
    }
   ],
   "source": [
    "list3 = [1,2,3,4]\n",
    "print(list3.pop())#delete last element\n",
    "print(list3)\n",
    "print(list3.pop(0))"
   ]
  },
  {
   "cell_type": "code",
   "execution_count": 15,
   "id": "7aa0f08d-8978-45e4-8e49-487ddef847b6",
   "metadata": {},
   "outputs": [
    {
     "name": "stdout",
     "output_type": "stream",
     "text": [
      "['sugar', 'milk', 'berries']\n",
      "['milk', 'berries']\n",
      "[]\n"
     ]
    }
   ],
   "source": [
    "list4 = [\"sugar\",\"milk\",\"berries\",\"donut\"]\n",
    "list4.remove(\"donut\")\n",
    "print(list4)\n",
    "del list4[0]\n",
    "print(list4)\n",
    "list4.clear()#sare list clear\n",
    "print(list4)"
   ]
  },
  {
   "cell_type": "markdown",
   "id": "32bcc5b6-ef0f-46b8-8797-c13a612a712b",
   "metadata": {},
   "source": [
    "### 🍭 List comprehension"
   ]
  },
  {
   "cell_type": "code",
   "execution_count": 20,
   "id": "645d5f9e-69ad-42be-ab43-f459780a31cf",
   "metadata": {},
   "outputs": [
    {
     "name": "stdout",
     "output_type": "stream",
     "text": [
      "['AANCHAL', 'ABHISHEK']\n"
     ]
    }
   ],
   "source": [
    "names = [\"Aanchal\",\"Aman\",\"Abhishek\",\"vidya\",\"Rose\"]\n",
    "new_name_list = [item.upper() for item in names if len(item)>=6]#iiteration condition\n",
    "print(new_name_list)"
   ]
  },
  {
   "cell_type": "markdown",
   "id": "658195a0-5eb5-4c07-b4f1-149fed0f15e8",
   "metadata": {},
   "source": [
    "###  Usefull list methods"
   ]
  },
  {
   "cell_type": "code",
   "execution_count": 25,
   "id": "5df7ac0f-be53-48d2-9491-18287f766786",
   "metadata": {},
   "outputs": [
    {
     "name": "stdout",
     "output_type": "stream",
     "text": [
      "2\n",
      "4\n",
      "[44, 23, 10, 10, 3, 1]\n"
     ]
    }
   ],
   "source": [
    "list6 = [23,10,3,1,44,10]\n",
    "list6.sort()\n",
    "list6.reverse()\n",
    "print(list6.count(10))\n",
    "#print(list6.index(3))\n",
    "print(list6)\n",
    "list7 = list6.copy()"
   ]
  },
  {
   "cell_type": "markdown",
   "id": "fa7d6cca-ae68-4934-99fd-633f16937e17",
   "metadata": {},
   "source": [
    "### Changing list Items"
   ]
  },
  {
   "cell_type": "code",
   "execution_count": 12,
   "id": "1acc3735-dcf3-4c47-a6d4-b53628f99644",
   "metadata": {},
   "outputs": [
    {
     "name": "stdout",
     "output_type": "stream",
     "text": [
      "['newFirst', 'newSecond', 'fourth']\n"
     ]
    }
   ],
   "source": [
    "# We can use index to change the list items\n",
    "list5 = [\"first\",\"second\",\"third\",\"fourth\"]\n",
    "#list5[0] = \"newFirst\"\n",
    "#list5[0:2] = [\"newFirst\",\"newSecond\"]\n",
    "#list5[0:2] = [\"newFirst\",\"newSecond\",\"newThird\"]\n",
    "list5[0:3] = [\"newFirst\",\"newSecond\"]\n",
    "print(list5)"
   ]
  },
  {
   "cell_type": "code",
   "execution_count": null,
   "id": "e088eac1-4adb-4e22-8257-82de537aeaf8",
   "metadata": {},
   "outputs": [],
   "source": []
  }
 ],
 "metadata": {
  "kernelspec": {
   "display_name": "Python [conda env:base] *",
   "language": "python",
   "name": "conda-base-py"
  },
  "language_info": {
   "codemirror_mode": {
    "name": "ipython",
    "version": 3
   },
   "file_extension": ".py",
   "mimetype": "text/x-python",
   "name": "python",
   "nbconvert_exporter": "python",
   "pygments_lexer": "ipython3",
   "version": "3.12.7"
  }
 },
 "nbformat": 4,
 "nbformat_minor": 5
}
