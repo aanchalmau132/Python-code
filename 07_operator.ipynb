{
 "cells": [
  {
   "cell_type": "markdown",
   "id": "16cc922c-ad10-459f-aa36-45eea4ce4db8",
   "metadata": {},
   "source": [
    "### Arithmetic Operators"
   ]
  },
  {
   "cell_type": "code",
   "execution_count": 15,
   "id": "ea645c24-c2cd-49bf-89b4-24eea9ac96e0",
   "metadata": {},
   "outputs": [
    {
     "name": "stdout",
     "output_type": "stream",
     "text": [
      "22\n",
      "2\n",
      "1.2\n",
      "120\n",
      "4\n",
      "1\n",
      "1\n"
     ]
    }
   ],
   "source": [
    "print(12+10)\n",
    "print(12 - 10)\n",
    "print(12 / 10)\n",
    "print(12 * 10)\n",
    "print(2 ** 2)#2 raised  2\n",
    "print(11 % 2)#remainader\n",
    "print(12 // 10) # Divide the number and return floor value 1.2 - 1"
   ]
  },
  {
   "cell_type": "markdown",
   "id": "2701cc0a-fbb6-4275-a1f0-b6cdcd76b588",
   "metadata": {},
   "source": [
    "### Assignment Operators"
   ]
  },
  {
   "cell_type": "code",
   "execution_count": 11,
   "id": "2c1144db-b0a2-4a9f-8867-00e7558d50bc",
   "metadata": {},
   "outputs": [
    {
     "name": "stdout",
     "output_type": "stream",
     "text": [
      "10\n"
     ]
    }
   ],
   "source": [
    "a = 10\n",
    "a += 10\n",
    "#a *= 10\n",
    "#a /= 10\n",
    "#a -= 10\n",
    "#a //= 10\n",
    "#a **= 10\n",
    "#a %= 10\n",
    "print(a)\n"
   ]
  },
  {
   "cell_type": "markdown",
   "id": "00996bce-5ad6-45ca-93f7-b03523f523e0",
   "metadata": {},
   "source": [
    "### Bitwise Operators\n",
    "\n"
   ]
  },
  {
   "cell_type": "code",
   "execution_count": 21,
   "id": "016bb4a4-d755-4589-bd5d-f12240eb4ff9",
   "metadata": {},
   "outputs": [
    {
     "name": "stdout",
     "output_type": "stream",
     "text": [
      "8\n",
      "False\n",
      "True\n",
      "-2\n",
      "True\n"
     ]
    }
   ],
   "source": [
    "# print(a)\n",
    "\n",
    "b = 10\n",
    "c = 12\n",
    "print(c & b)\n",
    "print(True & False)\n",
    "print(True | False)\n",
    "print(~True)\n",
    "print(True ^ False)"
   ]
  },
  {
   "cell_type": "markdown",
   "id": "ca94708e-ee10-4bb6-bc57-e70069714e28",
   "metadata": {},
   "source": [
    "### Comparison Operators"
   ]
  },
  {
   "cell_type": "code",
   "execution_count": 31,
   "id": "efb38d37-97ae-49f7-8e26-ae300387655d",
   "metadata": {},
   "outputs": [
    {
     "name": "stdout",
     "output_type": "stream",
     "text": [
      "True\n",
      "False\n",
      "True\n",
      "False\n",
      "True\n",
      "True\n",
      "False\n",
      "True\n"
     ]
    }
   ],
   "source": [
    "print(b < c)\n",
    "print(b > c)\n",
    "print(b != c)\n",
    "print(\"1\" == 1)\n",
    "print(int(\"1\") == 1)\n",
    "d = 10\n",
    "e = d\n",
    "team1 = {\"one\": \"faiz\", \"two\": \"messi\"}\n",
    "team2 = team1\n",
    "team3 = {\"one\": \"faiz\", \"two\": \"messi\"}\n",
    "\n",
    "print(team2 is team1) #identity operator -is memory allocation is same\n",
    "print(team3 is team1)# memory location is different but same value\n",
    "print(d is e)"
   ]
  },
  {
   "cell_type": "markdown",
   "id": "f685f915-05f1-4ba2-8cee-77515512838f",
   "metadata": {},
   "source": [
    "### Logical Operators"
   ]
  },
  {
   "cell_type": "code",
   "execution_count": 40,
   "id": "95d1930a-97f5-4d8e-b557-153a8256c41c",
   "metadata": {},
   "outputs": [
    {
     "name": "stdin",
     "output_type": "stream",
     "text": [
      "Enter your Age 23\n"
     ]
    },
    {
     "name": "stdout",
     "output_type": "stream",
     "text": [
      "You are eligible to drive\n"
     ]
    }
   ],
   "source": [
    "# age = input(\"Enter your age:\")\n",
    "#age = 20\n",
    "useer_input=input(\"Enter your Age\")\n",
    "if age >= 18 and age < 55:\n",
    "    print(\"You are eligible to drive\")\n",
    "elif age < 18 or age > 55:\n",
    "    print(\"You are not eligible to drive\")\n",
    "else:\n",
    "    print(\"The input you have typed is not compatible\")"
   ]
  },
  {
   "cell_type": "markdown",
   "id": "1687bd82-2b53-40e4-a31c-c539f82ecb31",
   "metadata": {},
   "source": [
    "### Membership Operators"
   ]
  },
  {
   "cell_type": "code",
   "execution_count": 36,
   "id": "1d7f44bc-f4e8-439f-8c3b-d9a54ae9f058",
   "metadata": {},
   "outputs": [
    {
     "name": "stdout",
     "output_type": "stream",
     "text": [
      "True\n",
      "False\n"
     ]
    }
   ],
   "source": [
    "print(\"one\" in team2)\n",
    "print(\"two\" not in team2)"
   ]
  },
  {
   "cell_type": "code",
   "execution_count": null,
   "id": "f93012de-d00d-4151-ab05-4ff7bf397ed6",
   "metadata": {},
   "outputs": [],
   "source": []
  }
 ],
 "metadata": {
  "kernelspec": {
   "display_name": "Python [conda env:base] *",
   "language": "python",
   "name": "conda-base-py"
  },
  "language_info": {
   "codemirror_mode": {
    "name": "ipython",
    "version": 3
   },
   "file_extension": ".py",
   "mimetype": "text/x-python",
   "name": "python",
   "nbconvert_exporter": "python",
   "pygments_lexer": "ipython3",
   "version": "3.12.7"
  }
 },
 "nbformat": 4,
 "nbformat_minor": 5
}
