{
 "cells": [
  {
   "cell_type": "code",
   "execution_count": 1,
   "id": "17de0d77-9793-4822-ba6d-6cf74c18c25c",
   "metadata": {},
   "outputs": [
    {
     "name": "stdout",
     "output_type": "stream",
     "text": [
      "True\n"
     ]
    }
   ],
   "source": [
    "tr1 = \"This is single line string\"\n",
    "str2 = \"\"\"\n",
    "This is a multiline string\n",
    "you can write more in it\n",
    "\"\"\"\n",
    "\n",
    "#You can use membership operator in order to check any string present inside the main string\n",
    "print(\"multiline\" in str2)"
   ]
  },
  {
   "cell_type": "code",
   "execution_count": 5,
   "id": "2e921494-7139-490b-8d6d-79d491e94115",
   "metadata": {},
   "outputs": [
    {
     "name": "stdout",
     "output_type": "stream",
     "text": [
      "hi\n"
     ]
    }
   ],
   "source": [
    "str1=\"hello\"#String inmmutable\n",
    "str1=\"hi\"\n",
    "print(str1)"
   ]
  },
  {
   "cell_type": "markdown",
   "id": "313c7937-b887-4328-b81c-c703f8a47d87",
   "metadata": {},
   "source": [
    "### String formating methods"
   ]
  },
  {
   "cell_type": "code",
   "execution_count": 10,
   "id": "58a561f0-7730-480f-9bef-802f54bf1ddf",
   "metadata": {},
   "outputs": [
    {
     "name": "stdout",
     "output_type": "stream",
     "text": [
      "   This String Is For Formatting Purpose    \n",
      "   this string is for formatting purpose    \n",
      "   THIS STRING IS FOR FORMATTING PURPOSE    \n",
      "   this string is for formatting purpose    \n",
      "   THIS STRING IS FOR FORMaTTING PURPOSE    \n",
      "   this string is for formAtting purpose    \n",
      "this string is for formAtting purpose\n",
      "this string is for formAtting purpose    \n"
     ]
    }
   ],
   "source": [
    "str6 = \"   this string is for formAtting purpose    \"\n",
    "print(str6.title())\n",
    "print(str6.capitalize())\n",
    "print(str6.upper())\n",
    "print(str6.lower())\n",
    "print(str6.swapcase())\n",
    "str7 = \"   this string is for formatting purpose    ssssss\"\n",
    "print(str6.rstrip(\"s\"))\n",
    "print(str6.strip())\n",
    "print(str6.lstrip())"
   ]
  },
  {
   "cell_type": "markdown",
   "id": "5dd109ce-3445-4381-8215-be038b120ced",
   "metadata": {},
   "source": [
    "### String adjusting methods"
   ]
  },
  {
   "cell_type": "code",
   "execution_count": 13,
   "id": "76f9a2d6-22ab-4813-b792-672b6390bbd4",
   "metadata": {},
   "outputs": [
    {
     "name": "stdout",
     "output_type": "stream",
     "text": [
      "iiiiihello\n",
      "helloiiiii\n",
      "iiihelloiii\n"
     ]
    }
   ],
   "source": [
    "str8 = \"hello\"\n",
    "print(str8.rjust(10,\"i\"))\n",
    "print(str8.ljust(10,\"i\"))\n",
    "print(str8.center(11,\"i\"))"
   ]
  },
  {
   "cell_type": "markdown",
   "id": "5073fab4-4bbe-4e95-be1c-3e9f3692f2dc",
   "metadata": {},
   "source": [
    "### String checking methods"
   ]
  },
  {
   "cell_type": "code",
   "execution_count": 20,
   "id": "dd04bc4f-2fe1-4d4f-8b52-0cbcaf24c8e7",
   "metadata": {},
   "outputs": [
    {
     "name": "stdout",
     "output_type": "stream",
     "text": [
      "True\n",
      "2\n",
      "True\n",
      "2\n",
      "True\n",
      "True\n",
      "True\n",
      "False\n",
      "this\n"
     ]
    }
   ],
   "source": [
    "str9 = \"This is sample string\"\n",
    "\n",
    "print(str9.endswith(\"string\"))\n",
    "#print(str9.index(\"lol\")) #this will give error if cannot find the string index\n",
    "print(str9.find(\"is\")) #This will return -1 if cannot find the string index\n",
    "print(str9.startswith(\"This\"))\n",
    "print(str9.count(\"is\"))\n",
    "str10 = \"1\"\n",
    "print(str10.isalnum())\n",
    "str11 = \"this\"\n",
    "print(str11.isalpha())\n",
    "print(str11.islower())\n",
    "print(str11.isupper())\n",
    "print(str11)"
   ]
  },
  {
   "cell_type": "markdown",
   "id": "3378397b-0338-4ee4-82ab-92fd26c2bae4",
   "metadata": {},
   "source": [
    "### Extra usefull methods"
   ]
  },
  {
   "cell_type": "code",
   "execution_count": 23,
   "id": "3b58128a-215e-4c38-a51d-e0a173c59ea8",
   "metadata": {},
   "outputs": [
    {
     "name": "stdout",
     "output_type": "stream",
     "text": [
      "['this', 'is', 'testing', 'of', 'string']\n",
      "this is testing string\n"
     ]
    }
   ],
   "source": [
    "str12 = \"this is testing of string\"\n",
    "print(str12.split(\" \")) #will make the list of string with \" \" argument as a separator\n",
    "print(\" \".join([\"this\", \"is\", \"testing\",\"string\"])) # this will join the string with provided string in between"
   ]
  },
  {
   "cell_type": "markdown",
   "id": "07f5cd2d-701d-4b40-8617-5f6dbc858ed8",
   "metadata": {},
   "source": [
    "###  Operations on string"
   ]
  },
  {
   "cell_type": "code",
   "execution_count": 26,
   "id": "80ae8152-867c-4c73-ace7-fb328dd2a1f6",
   "metadata": {},
   "outputs": [
    {
     "name": "stdout",
     "output_type": "stream",
     "text": [
      "24\n"
     ]
    }
   ],
   "source": [
    "#Question: finding length of string \n",
    "\n",
    "str3 = \"This is a example string\"\n",
    "print(len(str3))"
   ]
  },
  {
   "cell_type": "code",
   "execution_count": 32,
   "id": "2c2ac503-f89f-4e17-8487-05e7b8b9c2f1",
   "metadata": {},
   "outputs": [
    {
     "name": "stdout",
     "output_type": "stream",
     "text": [
      "This string is only for testing purpose\n",
      "This string is only for testing purpose\n",
      "This string is only for testing purpose\n",
      "esoprup gnitset rof ylno si gnirts sihT\n",
      "eorpgistrfyn igit iT\n"
     ]
    }
   ],
   "source": [
    "#Strings are like a array which stores the character starting from index 0\n",
    "#accessing the sub strings using array like box notation\n",
    "str4 = \"This string is only for testing purpose\"\n",
    "\n",
    "print(str4[0:len(str4)]) #by default 0 is in first and second is string's entire length if you don't put anything\n",
    "#below and above are same\n",
    "print(str4[0:])\n",
    "#below and above are same\n",
    "print(str4[:len(str4)])\n",
    "print(str4[::-1]) #putting negative index(slice step) at third place will start to get string in account from end and first two position are considered as default here which is nothing but 0, len(str)\n",
    "print(str4[::-2])#half ho jayega"
   ]
  },
  {
   "cell_type": "code",
   "execution_count": 36,
   "id": "e671c2bc-1f82-4dc7-8159-c2418bc4ec42",
   "metadata": {},
   "outputs": [
    {
     "name": "stdout",
     "output_type": "stream",
     "text": [
      "T\n",
      "h\n",
      "i\n",
      "s\n",
      " \n",
      "s\n",
      "t\n",
      "r\n",
      "i\n",
      "n\n",
      "g\n",
      " \n",
      "i\n",
      "s\n",
      " \n",
      "f\n",
      "o\n",
      "r\n",
      " \n",
      "p\n",
      "r\n",
      "i\n",
      "n\n",
      "t\n",
      "i\n",
      "n\n",
      "g\n",
      " \n",
      "p\n",
      "u\n",
      "r\n",
      "p\n",
      "o\n",
      "s\n",
      "e\n"
     ]
    }
   ],
   "source": [
    "#Printing string using for loop\n",
    "\n",
    "str5 = \"This string is for printing purpose\"\n",
    "for i in str5:\n",
    "    print(i,) # here we use end=\"\" so that the string will remain at one line "
   ]
  },
  {
   "cell_type": "code",
   "execution_count": 42,
   "id": "dc2d614e-1f2e-45b8-88bc-59fdd30b761c",
   "metadata": {},
   "outputs": [
    {
     "name": "stdout",
     "output_type": "stream",
     "text": [
      "This string is for printing purpose"
     ]
    }
   ],
   "source": [
    "#Printing string using for loop\n",
    "\n",
    "str5 = \"This string is for printing purpose\"\n",
    "for i in str5:\n",
    "    print(i,end=\"\") # here we use end=\"\" so that the string will remain a"
   ]
  },
  {
   "cell_type": "markdown",
   "id": "d2905b3e-35dd-4b8e-aafc-1015f6681cdb",
   "metadata": {},
   "source": [
    "###  Formatting in strings"
   ]
  },
  {
   "cell_type": "code",
   "execution_count": 45,
   "id": "beacee2e-341f-46a5-a1b7-d69a4f0f6a49",
   "metadata": {},
   "outputs": [
    {
     "name": "stdout",
     "output_type": "stream",
     "text": [
      "Jimmy put plates on table, before it's too late\n",
      "put plates on table Jimmy, before it's too late\n",
      "Jimmy put plates on table, before it's too late\n"
     ]
    }
   ],
   "source": [
    "#step1:create variables to put inside the string\n",
    "task = \"put plates on table\"\n",
    "name = \"Jimmy\"\n",
    "#step2:Make a statement\n",
    "statement = \"{} {}, before it's too late\"\n",
    "print(statement.format(name,task))\n",
    "\n",
    "#sometime we don't know the position of variables\n",
    "statement2 = \"{1} {0}, before it's too late\"\n",
    "print(statement2.format(name,task))#name is 0 index and task is 1 index\n",
    "\n",
    "#Using f strings\n",
    "\n",
    "print(f\"{name} {task}, before it's too late\")"
   ]
  },
  {
   "cell_type": "code",
   "execution_count": null,
   "id": "4dbe9543-d100-4255-a5fc-15012ac287f2",
   "metadata": {},
   "outputs": [],
   "source": []
  }
 ],
 "metadata": {
  "kernelspec": {
   "display_name": "Python [conda env:base] *",
   "language": "python",
   "name": "conda-base-py"
  },
  "language_info": {
   "codemirror_mode": {
    "name": "ipython",
    "version": 3
   },
   "file_extension": ".py",
   "mimetype": "text/x-python",
   "name": "python",
   "nbconvert_exporter": "python",
   "pygments_lexer": "ipython3",
   "version": "3.12.7"
  }
 },
 "nbformat": 4,
 "nbformat_minor": 5
}
