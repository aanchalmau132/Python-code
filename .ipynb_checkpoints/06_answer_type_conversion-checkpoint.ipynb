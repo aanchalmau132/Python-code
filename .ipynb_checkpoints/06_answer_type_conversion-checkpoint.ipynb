{
 "cells": [
  {
   "cell_type": "markdown",
   "id": "602a6b25-80ae-4374-b28a-90f51ee37279",
   "metadata": {},
   "source": [
    "### Question 1: What is the difference between implicit and explicit type conversion?"
   ]
  },
  {
   "cell_type": "markdown",
   "id": "0f847ea7-f612-41ee-b8dc-9483fd794655",
   "metadata": {},
   "source": [
    "##### Implicit type conversions\n",
    "\n",
    "##### In implicit type conversion, Python converts data from a smaller and less precise type to a larger and more precise type to avoid loss of data."
   ]
  },
  {
   "cell_type": "code",
   "execution_count": 6,
   "id": "e51b340b-7f93-44f4-afaa-e130ad1026d6",
   "metadata": {},
   "outputs": [
    {
     "name": "stdout",
     "output_type": "stream",
     "text": [
      "14.5\n"
     ]
    }
   ],
   "source": [
    "a = 10\n",
    "b = 4.5\n",
    "c = a + b  # Here, 'a' gets converted into a floating point number\n",
    "print(c)"
   ]
  },
  {
   "cell_type": "markdown",
   "id": "0941fdc1-61d5-4c0b-8caf-25c00931a521",
   "metadata": {},
   "source": [
    "##### Explicit type conversions\n",
    "\n",
    "##### This is done by the programmer using built-in functions."
   ]
  },
  {
   "cell_type": "code",
   "execution_count": 19,
   "id": "09839444-6646-474b-a5b4-fbb529106187",
   "metadata": {},
   "outputs": [
    {
     "name": "stdout",
     "output_type": "stream",
     "text": [
      "101 10.0\n"
     ]
    }
   ],
   "source": [
    "num1 = int(\"101\")\n",
    "num2 = float(10)\n",
    "print(num1, num2)"
   ]
  },
  {
   "cell_type": "markdown",
   "id": "45eb7fec-a3be-45ee-a93f-f16dc5a330d4",
   "metadata": {},
   "source": [
    "### Question 2: Which function would you use to convert a string \"123\" to an integer?\n"
   ]
  },
  {
   "cell_type": "code",
   "execution_count": 22,
   "id": "527bfbc6-d6a1-42e0-9ba5-d49baf0b2d74",
   "metadata": {},
   "outputs": [],
   "source": [
    "\n",
    "num3 = int(\"123\")"
   ]
  },
  {
   "cell_type": "markdown",
   "id": "333c3637-3ef2-4b35-b4bd-234c7f67a87c",
   "metadata": {},
   "source": [
    "### Question 3: Explain what happens when you convert a floating-point number to an integer."
   ]
  },
  {
   "cell_type": "markdown",
   "id": "7918bed8-a544-49d7-9427-8911eb238141",
   "metadata": {},
   "source": [
    "##### When you convert a floating-point number to an integer, it loses its decimal part, effectively truncating it."
   ]
  },
  {
   "cell_type": "code",
   "execution_count": 28,
   "id": "e8206f9b-3be1-4f8c-9011-97f7f1a0c3df",
   "metadata": {},
   "outputs": [
    {
     "name": "stdout",
     "output_type": "stream",
     "text": [
      "10\n"
     ]
    }
   ],
   "source": [
    "num4 = 10.34\n",
    "num5 = int(num4)\n",
    "print(num5)\n"
   ]
  },
  {
   "cell_type": "markdown",
   "id": "e73f16e4-61f4-43ca-bd31-4676b17693d4",
   "metadata": {},
   "source": [
    "### Question 4: Predict the output"
   ]
  },
  {
   "cell_type": "code",
   "execution_count": 31,
   "id": "22659077-cef7-4940-ace9-363412a78caa",
   "metadata": {},
   "outputs": [
    {
     "name": "stdout",
     "output_type": "stream",
     "text": [
      "5\n"
     ]
    }
   ],
   "source": [
    "x = 5.7\n",
    "y = int(x)\n",
    "print(y)"
   ]
  },
  {
   "cell_type": "markdown",
   "id": "258b3f12-a9b7-4809-909b-d3c9f40f2de2",
   "metadata": {},
   "source": [
    "### Question 5: What will be the output of the following code?"
   ]
  },
  {
   "cell_type": "code",
   "execution_count": 34,
   "id": "88973bbd-ec8e-491d-9fba-f48189206582",
   "metadata": {},
   "outputs": [
    {
     "name": "stdout",
     "output_type": "stream",
     "text": [
      "35\n"
     ]
    }
   ],
   "source": [
    "num_str = \"25\"\n",
    "num = int(num_str)\n",
    "print(num + 10)"
   ]
  },
  {
   "cell_type": "markdown",
   "id": "83dc221d-d996-498c-9b04-bad7ef8ef3cb",
   "metadata": {},
   "source": [
    "### Question 6: Identify the error in this code and fix it"
   ]
  },
  {
   "cell_type": "code",
   "execution_count": 39,
   "id": "5249f229-9263-4e97-b874-cab59f1c80af",
   "metadata": {},
   "outputs": [
    {
     "name": "stdout",
     "output_type": "stream",
     "text": [
      "50\n"
     ]
    }
   ],
   "source": [
    "price = \"30.5\"\n",
    "# total = price + 20  # Error: Cannot add string and integer\n",
    "total = int(float(price)) + 20  # <-- Fixed\n",
    "print(total)"
   ]
  },
  {
   "cell_type": "markdown",
   "id": "2805cca7-d190-4fa1-bc94-9bc9e221e974",
   "metadata": {},
   "source": [
    "### Question 7: Convert a list of strings to a list of integers"
   ]
  },
  {
   "cell_type": "code",
   "execution_count": 42,
   "id": "c9ba19de-45ed-495e-b6ed-743f1e134e4f",
   "metadata": {},
   "outputs": [
    {
     "name": "stdout",
     "output_type": "stream",
     "text": [
      "[1, 2, 3, 4]\n"
     ]
    }
   ],
   "source": [
    "str_list = [\"1\", \"2\", \"3\", \"4\"]\n",
    "int_List = []\n",
    "\n",
    "for i in range(len(str_list)):\n",
    "    int_List.append(int(str_list[i]))\n",
    "\n",
    "print(int_List)\n"
   ]
  },
  {
   "cell_type": "code",
   "execution_count": null,
   "id": "063beffe-adeb-4f92-8888-90fe42815c60",
   "metadata": {},
   "outputs": [],
   "source": []
  }
 ],
 "metadata": {
  "kernelspec": {
   "display_name": "Python [conda env:base] *",
   "language": "python",
   "name": "conda-base-py"
  },
  "language_info": {
   "codemirror_mode": {
    "name": "ipython",
    "version": 3
   },
   "file_extension": ".py",
   "mimetype": "text/x-python",
   "name": "python",
   "nbconvert_exporter": "python",
   "pygments_lexer": "ipython3",
   "version": "3.12.7"
  }
 },
 "nbformat": 4,
 "nbformat_minor": 5
}
