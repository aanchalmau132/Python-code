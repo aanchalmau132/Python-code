{
 "cells": [
  {
   "cell_type": "markdown",
   "id": "402e8c83-ec7c-421a-9194-8a5c7082074d",
   "metadata": {},
   "source": [
    "### Question 1: Which of the following values will be evaluated as False by the bool() function?\n",
    "#### \"Hello\"\n",
    "#### 0\n",
    "#### []\n",
    "#### -1\n",
    "#### {}\n",
    "#### None"
   ]
  },
  {
   "cell_type": "code",
   "execution_count": 3,
   "id": "d15dc2e3-1fdc-44f1-a7af-8fc4d94e56de",
   "metadata": {},
   "outputs": [
    {
     "name": "stdout",
     "output_type": "stream",
     "text": [
      "True False False True False False\n"
     ]
    }
   ],
   "source": [
    "print(bool(\"Hello\"), bool(0), bool([]), bool(-1), bool({}), bool(None))"
   ]
  },
  {
   "cell_type": "markdown",
   "id": "664a4789-5bac-4f75-b916-692b40987914",
   "metadata": {},
   "source": [
    "### Question 2: Predict the output:"
   ]
  },
  {
   "cell_type": "code",
   "execution_count": 6,
   "id": "e9bfa057-ab67-4280-827d-bf6ad7bf0289",
   "metadata": {},
   "outputs": [
    {
     "name": "stdout",
     "output_type": "stream",
     "text": [
      "False\n",
      "False\n",
      "True\n",
      "False\n"
     ]
    }
   ],
   "source": [
    "print(bool([]))\n",
    "print(bool(0))\n",
    "print(bool(\"Python\"))\n",
    "print(bool(None))"
   ]
  },
  {
   "cell_type": "markdown",
   "id": "4fbe0e3f-45da-4f51-b329-9e2e1357c6c2",
   "metadata": {},
   "source": [
    "### Question 3: Write a Python program that takes user input and checks if it's a falsy value."
   ]
  },
  {
   "cell_type": "code",
   "execution_count": 10,
   "id": "a51e1a03-0f3e-4e85-bade-0fff646f8017",
   "metadata": {},
   "outputs": [
    {
     "name": "stdout",
     "output_type": "stream",
     "text": [
      "False\n"
     ]
    }
   ],
   "source": [
    "def check_falsy(input):\n",
    "    return bool(input)\n",
    "\n",
    "print(check_falsy(0))"
   ]
  },
  {
   "cell_type": "code",
   "execution_count": null,
   "id": "f1dbc03d-f117-402b-b049-0fe682691af6",
   "metadata": {},
   "outputs": [],
   "source": []
  },
  {
   "cell_type": "markdown",
   "id": "39b92abf-9cfd-4703-8ef4-b4516a1c71c5",
   "metadata": {},
   "source": [
    "### Question 4: Identify the falsy values in this list:"
   ]
  },
  {
   "cell_type": "code",
   "execution_count": null,
   "id": "c184098b-4d68-44c0-9a4f-972952c2646b",
   "metadata": {},
   "outputs": [],
   "source": [
    "Falsy values are values that evaluate to False in a boolean context. Falsy values include empty sequences (lists, tuples, strings, dictionaries, sets), zero in every numeric type, None , and False"
   ]
  },
  {
   "cell_type": "code",
   "execution_count": 19,
   "id": "91f9fc5c-aa25-4db1-883c-c01f1b18754d",
   "metadata": {},
   "outputs": [
    {
     "name": "stdout",
     "output_type": "stream",
     "text": [
      "False\n",
      "True\n",
      "False\n",
      "True\n",
      "False\n",
      "True\n",
      "False\n",
      "False\n"
     ]
    }
   ],
   "source": [
    "my_list = [0, 1, \"\", \"Hello\", [], [1, 2, 3], None, False]\n",
    "for i in range(len(my_list)):\n",
    "    print(bool(my_list[i]))\n"
   ]
  },
  {
   "cell_type": "markdown",
   "id": "e7b704c3-f1c8-4e24-83c3-5a5b2462ffb8",
   "metadata": {},
   "source": [
    "### Question 5: Explain why the output of bool(0.0) is False but bool(0.00001) is True.\n",
    "All forms of zero, including 0, 0.0, 0j, and 00, evaluate to False. However, 0.00001 is a small value, but it is not zero, so it evaluates to True."
   ]
  },
  {
   "cell_type": "code",
   "execution_count": 22,
   "id": "aa220fa3-0707-4497-9352-19d1e6cfd901",
   "metadata": {},
   "outputs": [
    {
     "name": "stdout",
     "output_type": "stream",
     "text": [
      "False\n",
      "True\n"
     ]
    }
   ],
   "source": [
    "print(bool(0.0))\n",
    "print(bool(0.00001))"
   ]
  },
  {
   "cell_type": "markdown",
   "id": "bf255c8b-4b4e-4496-b038-bcdfce271fe8",
   "metadata": {},
   "source": [
    "### Question 6: Write a function that removes all falsy values from a list.\n",
    "#### Input: [0, 1, \"\", None, [], \"Python\", False, 10]\n",
    "#### Output: [1, \"Python\", 10]"
   ]
  },
  {
   "cell_type": "code",
   "execution_count": 25,
   "id": "09892ab4-3a09-4e2e-b226-3ee4192c9271",
   "metadata": {},
   "outputs": [
    {
     "name": "stdout",
     "output_type": "stream",
     "text": [
      "[1, 'Python', 10]\n"
     ]
    }
   ],
   "source": [
    "def remove_falsy(input_list):\n",
    "    new_list = []\n",
    "    for i in range(len(input_list)):\n",
    "        if bool(input_list[i]):\n",
    "            new_list.append(input_list[i])\n",
    "    return new_list\n",
    "\n",
    "print(remove_falsy([0, 1, \"\", None, [], \"Python\", False, 10]))\n",
    "     "
   ]
  },
  {
   "cell_type": "code",
   "execution_count": null,
   "id": "f9ca7957-2250-4c30-a222-8778d78d7a7b",
   "metadata": {},
   "outputs": [],
   "source": []
  }
 ],
 "metadata": {
  "kernelspec": {
   "display_name": "Python [conda env:base] *",
   "language": "python",
   "name": "conda-base-py"
  },
  "language_info": {
   "codemirror_mode": {
    "name": "ipython",
    "version": 3
   },
   "file_extension": ".py",
   "mimetype": "text/x-python",
   "name": "python",
   "nbconvert_exporter": "python",
   "pygments_lexer": "ipython3",
   "version": "3.12.7"
  }
 },
 "nbformat": 4,
 "nbformat_minor": 5
}
