{
 "cells": [
  {
   "cell_type": "markdown",
   "id": "64773a9b-3f27-4304-9216-680c98b6ba88",
   "metadata": {},
   "source": [
    "### Question 2: Write a program to calculate the area of a circle given its radius. (Use the formula area = π * r²)"
   ]
  },
  {
   "cell_type": "code",
   "execution_count": 2,
   "id": "c277febf-c7ab-4726-8803-0b0a81c84b4e",
   "metadata": {},
   "outputs": [
    {
     "name": "stdout",
     "output_type": "stream",
     "text": [
      "12.56\n"
     ]
    }
   ],
   "source": [
    "def calculateArea(radius):\n",
    "    return 3.14*(radius**2)\n",
    "print(calculateArea(2))"
   ]
  },
  {
   "cell_type": "markdown",
   "id": "295a0540-eb77-4d12-84ce-ba7b835a352e",
   "metadata": {},
   "source": [
    "### Question 5: Convert 5 and 3 to binary and calculate 5 & 3, 5 | 3, and 5 ^ 3."
   ]
  },
  {
   "cell_type": "code",
   "execution_count": 5,
   "id": "8360312f-1341-4fe6-a868-53783d7423f3",
   "metadata": {},
   "outputs": [
    {
     "name": "stdout",
     "output_type": "stream",
     "text": [
      "0b101 0b11\n",
      "1\n",
      "6\n"
     ]
    }
   ],
   "source": [
    "a=bin(5)\n",
    "b=bin(3)\n",
    "print(a,b)\n",
    "print(5&3)\n",
    "print(5^3)#XOR\n",
    "\n"
   ]
  },
  {
   "cell_type": "markdown",
   "id": "85dcdb2f-24b6-408d-bb14-acd6a6d3bc22",
   "metadata": {},
   "source": [
    "### Question 7: Write a program that uses +=, -=, *=, and /= to modify a variable"
   ]
  },
  {
   "cell_type": "code",
   "execution_count": 10,
   "id": "0e6827fd-a3e8-4e0f-a390-2dafbe1cfb70",
   "metadata": {},
   "outputs": [
    {
     "name": "stdout",
     "output_type": "stream",
     "text": [
      "1.2\n"
     ]
    }
   ],
   "source": [
    "def performOpt(input):\n",
    "    input +=12\n",
    "    input -=10\n",
    "    input *=1\n",
    "    input /=10\n",
    "    return input\n",
    "print(performOpt(10))   \n",
    "    "
   ]
  },
  {
   "cell_type": "markdown",
   "id": "e14ad50d-f71a-496d-8cba-cca1e5233fe5",
   "metadata": {},
   "source": [
    "### Question 9: Write a Python program that takes an integer input and:"
   ]
  },
  {
   "cell_type": "code",
   "execution_count": 15,
   "id": "cf057b95-e38b-42d8-827a-4c31e00ff355",
   "metadata": {},
   "outputs": [
    {
     "name": "stdin",
     "output_type": "stream",
     "text": [
      "Enter a number 3\n"
     ]
    },
    {
     "name": "stdout",
     "output_type": "stream",
     "text": [
      "This is odd number\n"
     ]
    }
   ],
   "source": [
    "number =int(input(\"Enter a number\"))\n",
    "if number%2 == 0:\n",
    "    print(\"This is even number\")\n",
    "elif number%2 != 0:\n",
    "    print(\"This is odd number\")\n",
    "if 10 < number < 50:\n",
    "    print(\"Number is provided range\")\n"
   ]
  },
  {
   "cell_type": "code",
   "execution_count": null,
   "id": "a1ddccde-235d-40cb-b2fe-7e1b545b1347",
   "metadata": {},
   "outputs": [],
   "source": []
  }
 ],
 "metadata": {
  "kernelspec": {
   "display_name": "Python [conda env:base] *",
   "language": "python",
   "name": "conda-base-py"
  },
  "language_info": {
   "codemirror_mode": {
    "name": "ipython",
    "version": 3
   },
   "file_extension": ".py",
   "mimetype": "text/x-python",
   "name": "python",
   "nbconvert_exporter": "python",
   "pygments_lexer": "ipython3",
   "version": "3.12.7"
  }
 },
 "nbformat": 4,
 "nbformat_minor": 5
}
