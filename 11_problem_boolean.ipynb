{
 "cells": [
  {
   "cell_type": "markdown",
   "id": "0e259a4c-8cd5-41ca-a09b-1aeca9e8745e",
   "metadata": {},
   "source": [
    "### Question 1: Which of the following values will be evaluated as False by the bool() function?\n",
    "#### \"Hello\"\n",
    "#### 0\n",
    "#### []\n",
    "#### -1\n",
    "#### {}\n",
    "#### None\n",
    "### Question 2: Predict the output:\n",
    "### Question 3: Write a Python program that takes user input and checks if it's a falsy value.\n",
    "### Question 4: Identify the falsy values in this list:\n",
    "### Question 5: Explain why the output of bool(0.0) is False but bool(0.00001) is True.\n",
    "### Question 6: Write a function that removes all falsy values from a list.\n",
    "### Input: [0, 1, \"\", None, [], \"Python\", False, 10]\n",
    "#### Output: [1, \"Python\", 10]"
   ]
  },
  {
   "cell_type": "code",
   "execution_count": null,
   "id": "67ee08a0-0995-4c0c-b3b0-bdbcdff14e72",
   "metadata": {},
   "outputs": [],
   "source": []
  },
  {
   "cell_type": "code",
   "execution_count": null,
   "id": "987f7db5-21b9-4eb0-ab40-e3a337c7250b",
   "metadata": {},
   "outputs": [],
   "source": []
  }
 ],
 "metadata": {
  "kernelspec": {
   "display_name": "Python [conda env:base] *",
   "language": "python",
   "name": "conda-base-py"
  },
  "language_info": {
   "codemirror_mode": {
    "name": "ipython",
    "version": 3
   },
   "file_extension": ".py",
   "mimetype": "text/x-python",
   "name": "python",
   "nbconvert_exporter": "python",
   "pygments_lexer": "ipython3",
   "version": "3.12.7"
  }
 },
 "nbformat": 4,
 "nbformat_minor": 5
}
