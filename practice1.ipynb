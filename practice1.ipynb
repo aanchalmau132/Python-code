{
 "cells": [
  {
   "cell_type": "code",
   "execution_count": 2,
   "id": "4b902e4e-cc96-4a6c-9be2-e7a4d3850a19",
   "metadata": {},
   "outputs": [],
   "source": [
    "#primitive variables\n",
    "var1 = \"this is a string\" #string\n",
    "var2 = 12 #number\n",
    "var3 = True #boolean\n",
    "var4 = None #This is act as a placeholder if you want to put this anywhere before any variable comes in"
   ]
  },
  {
   "cell_type": "code",
   "execution_count": 4,
   "id": "b3135262-891e-4c44-9aae-df62ee840355",
   "metadata": {},
   "outputs": [],
   "source": [
    "var1 = \"this is\""
   ]
  },
  {
   "cell_type": "code",
   "execution_count": 8,
   "id": "bcca98cc-df1a-4277-82c5-ba65433b3b1c",
   "metadata": {},
   "outputs": [
    {
     "name": "stdout",
     "output_type": "stream",
     "text": [
      "this is\n"
     ]
    }
   ],
   "source": [
    "print(var1)"
   ]
  },
  {
   "cell_type": "code",
   "execution_count": 24,
   "id": "9c76b46a-c156-42e4-a982-5783b8756401",
   "metadata": {},
   "outputs": [],
   "source": [
    "#sequenced variables\n",
    "var5 = [\"place\", 12, True] #List\n",
    "var6 = {\"name\":\"t-rex\",\"age\":10000} #dictionary\n",
    "var7 = {1,2,3,4,5} #set\n",
    "var8 = range(0,10,2)\n",
    "var9 = (1,2,3,4) #tuple"
   ]
  },
  {
   "cell_type": "code",
   "execution_count": 16,
   "id": "63b32247-9090-4cda-9158-d9e4ab01eb6e",
   "metadata": {},
   "outputs": [
    {
     "name": "stdout",
     "output_type": "stream",
     "text": [
      "0\n",
      "2\n",
      "4\n",
      "6\n",
      "8\n"
     ]
    }
   ],
   "source": [
    "#range(start, stop, step)\n",
    "var8 = range(0,10,2)\n",
    "for i in var8:\n",
    "    print(i)"
   ]
  },
  {
   "cell_type": "code",
   "execution_count": 14,
   "id": "5970074f-ce23-4b41-a367-312d2bd62f7e",
   "metadata": {},
   "outputs": [
    {
     "name": "stdout",
     "output_type": "stream",
     "text": [
      "range(0, 10, 2)\n"
     ]
    }
   ],
   "source": [
    "var8 = range(0,10,2)\n",
    "print(var8)"
   ]
  },
  {
   "cell_type": "code",
   "execution_count": 22,
   "id": "24a80f7c-b477-4b61-8885-6f239fa7ef8e",
   "metadata": {},
   "outputs": [
    {
     "name": "stdout",
     "output_type": "stream",
     "text": [
      "Alice is 25 years old\n",
      "Person('Alice', 25)\n",
      "Alice is 25 years old\n"
     ]
    }
   ],
   "source": [
    "#Naming convention\n",
    "# variables(snake_case) \n",
    "first_name = \"ganesh\"\n",
    "\n",
    "# Class name(PascalCase)\n",
    "class DoStuff:\n",
    "    pass\n",
    "\n",
    "# constants\n",
    "\n",
    "USER_LIST = [\"tim\", \"jake\",\"mishashi\"]\n",
    "\n",
    "# magic methods or special methods in python syntax used to defined how object of class will behave with built in method\n",
    "\n",
    "class Person:\n",
    "    def __init__(self, name, age):\n",
    "        self.name = name\n",
    "        self.age = age\n",
    "\n",
    "    def __str__(self):\n",
    "        return f\"{self.name} is {self.age} years old\"\n",
    "\n",
    "    def __repr__(self):\n",
    "        return f\"Person('{self.name}', {self.age})\"\n",
    "\n",
    "p = Person(\"Alice\", 25)\n",
    "print(str(p))\n",
    "class Person:\n",
    "    def __init__(self, name, age):\n",
    "        self.name = name\n",
    "        self.age = age\n",
    "\n",
    "    def __str__(self):\n",
    "        return f\"{self.name} is {self.age} years old\"\n",
    "\n",
    "    def __repr__(self):\n",
    "        return f\"Person('{self.name}', {self.age})\"\n",
    "\n",
    "p = Person(\"Alice\", 25)\n",
    "print(repr(p))\n",
    "print(p)"
   ]
  },
  {
   "cell_type": "code",
   "execution_count": 26,
   "id": "3de31beb-a28b-4078-8014-f96c3eb7bfbb",
   "metadata": {},
   "outputs": [
    {
     "name": "stdout",
     "output_type": "stream",
     "text": [
      "Iron Man will save the city\n"
     ]
    }
   ],
   "source": [
    "#Scope of variable\n",
    "#Global scope\n",
    "hero = \"Iron Man\"\n",
    "def saveCity():\n",
    "    print(f\"{hero} will save the city\")\n",
    "saveCity()\n",
    "\n"
   ]
  },
  {
   "cell_type": "code",
   "execution_count": 28,
   "id": "0707607d-5b85-421c-afe4-4f8a56fb8974",
   "metadata": {},
   "outputs": [
    {
     "name": "stdout",
     "output_type": "stream",
     "text": [
      "Thor will save the city\n"
     ]
    }
   ],
   "source": [
    "#Block Scope\n",
    "def saveCity2():\n",
    "    hero = \"Thor\"\n",
    "    print(f\"{hero} will save the city\")\n",
    "\n",
    "saveCity2()\n",
    "# we can use global keyword in order to declare the variable inside a block global"
   ]
  },
  {
   "cell_type": "code",
   "execution_count": 30,
   "id": "774c0ccd-7f52-492a-8c0a-f9294f701b63",
   "metadata": {},
   "outputs": [
    {
     "name": "stdout",
     "output_type": "stream",
     "text": [
      "Iron Man will save the city\n",
      "Thor will save the city\n"
     ]
    }
   ],
   "source": [
    "#Global scope\n",
    "hero = \"Iron Man\"\n",
    "def saveCity():\n",
    "    print(f\"{hero} will save the city\")\n",
    "saveCity()\n",
    "\n",
    "#Block Scope\n",
    "def saveCity2():\n",
    "    hero = \"Thor\"\n",
    "    print(f\"{hero} will save the city\")\n",
    "\n",
    "saveCity2()\n",
    "# we can use global keyword in order to declare the variable inside a block global"
   ]
  },
  {
   "cell_type": "code",
   "execution_count": 36,
   "id": "085573fc-f974-4414-a8eb-fed58b65e9b7",
   "metadata": {},
   "outputs": [
    {
     "name": "stdout",
     "output_type": "stream",
     "text": [
      "20\n",
      "10\n"
     ]
    }
   ],
   "source": [
    "x = 10\n",
    "\n",
    "def my_function():\n",
    "    x = 20\n",
    "    print(x)\n",
    "my_function()\n",
    "print(x)\n"
   ]
  },
  {
   "cell_type": "code",
   "execution_count": 38,
   "id": "82732511-3a7a-4972-bf26-fcbd5bf45eae",
   "metadata": {},
   "outputs": [
    {
     "name": "stdout",
     "output_type": "stream",
     "text": [
      "6\n"
     ]
    }
   ],
   "source": [
    "count = 5\n",
    "\n",
    "def increment():\n",
    "    global count\n",
    "    count += 1\n",
    "increment()\n",
    "print(count)"
   ]
  },
  {
   "cell_type": "code",
   "execution_count": 40,
   "id": "92c487e9-0c07-4279-861f-4b7ac7f855d7",
   "metadata": {},
   "outputs": [
    {
     "ename": "UnboundLocalError",
     "evalue": "cannot access local variable 'total' where it is not associated with a value",
     "output_type": "error",
     "traceback": [
      "\u001b[1;31m---------------------------------------------------------------------------\u001b[0m",
      "\u001b[1;31mUnboundLocalError\u001b[0m                         Traceback (most recent call last)",
      "Cell \u001b[1;32mIn[40], line 6\u001b[0m\n\u001b[0;32m      3\u001b[0m     \u001b[38;5;28mprint\u001b[39m(total)\n\u001b[0;32m      5\u001b[0m total \u001b[38;5;241m=\u001b[39m \u001b[38;5;241m0\u001b[39m\n\u001b[1;32m----> 6\u001b[0m calculate()\n",
      "Cell \u001b[1;32mIn[40], line 2\u001b[0m, in \u001b[0;36mcalculate\u001b[1;34m()\u001b[0m\n\u001b[0;32m      1\u001b[0m \u001b[38;5;28;01mdef\u001b[39;00m \u001b[38;5;21mcalculate\u001b[39m():\n\u001b[1;32m----> 2\u001b[0m     total \u001b[38;5;241m+\u001b[39m\u001b[38;5;241m=\u001b[39m \u001b[38;5;241m10\u001b[39m \n\u001b[0;32m      3\u001b[0m     \u001b[38;5;28mprint\u001b[39m(total)\n",
      "\u001b[1;31mUnboundLocalError\u001b[0m: cannot access local variable 'total' where it is not associated with a value"
     ]
    }
   ],
   "source": [
    "def calculate():\n",
    "    total += 10 \n",
    "    print(total)\n",
    "\n",
    "total = 0\n",
    "calculate()"
   ]
  },
  {
   "cell_type": "code",
   "execution_count": 50,
   "id": "ee9a9c08-d00e-40a2-9fe9-1d10e012831d",
   "metadata": {},
   "outputs": [
    {
     "name": "stdout",
     "output_type": "stream",
     "text": [
      "10\n"
     ]
    }
   ],
   "source": [
    "#above code ka right code is below\n",
    "total = 0\n",
    "def calculate():\n",
    "    global total\n",
    "    total += 10 \n",
    "    print(total)\n",
    "\n",
    "\n",
    "calculate()"
   ]
  },
  {
   "cell_type": "code",
   "execution_count": 48,
   "id": "1c42a4f5-4075-4ac8-acea-ae9348b49bfc",
   "metadata": {},
   "outputs": [
    {
     "name": "stdout",
     "output_type": "stream",
     "text": [
      "150\n"
     ]
    }
   ],
   "source": [
    "def update_balance(amount):\n",
    "    global balance\n",
    "    balance = balance + amount\n",
    "\n",
    "balance = 100\n",
    "update_balance(50)\n",
    "print(balance)"
   ]
  },
  {
   "cell_type": "code",
   "execution_count": null,
   "id": "89ce8155-f675-4500-9730-63608d5e1880",
   "metadata": {},
   "outputs": [],
   "source": []
  }
 ],
 "metadata": {
  "kernelspec": {
   "display_name": "Python [conda env:base] *",
   "language": "python",
   "name": "conda-base-py"
  },
  "language_info": {
   "codemirror_mode": {
    "name": "ipython",
    "version": 3
   },
   "file_extension": ".py",
   "mimetype": "text/x-python",
   "name": "python",
   "nbconvert_exporter": "python",
   "pygments_lexer": "ipython3",
   "version": "3.12.7"
  }
 },
 "nbformat": 4,
 "nbformat_minor": 5
}
